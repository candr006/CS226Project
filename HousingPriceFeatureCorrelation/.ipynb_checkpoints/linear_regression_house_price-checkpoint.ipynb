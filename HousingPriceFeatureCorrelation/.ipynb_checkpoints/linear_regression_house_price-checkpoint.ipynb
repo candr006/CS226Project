{
 "cells": [
  {
   "cell_type": "code",
   "execution_count": 1,
   "metadata": {
    "collapsed": true
   },
   "outputs": [],
   "source": [
    "import pandas as pd\n",
    "import numpy as np\n",
    "from dateutil.parser import parse\n",
    "import re\n",
    "import matplotlib.pyplot as plt\n",
    "import statsmodels.formula.api as smf\n",
    "from sklearn.metrics import mean_squared_error\n",
    "from sklearn.metrics import r2_score\n",
    "\n",
    "from sklearn.cross_validation import train_test_split\n",
    "from sklearn.linear_model import LassoCV\n",
    "from sklearn.linear_model import LinearRegression\n",
    "from sklearn.linear_model import RidgeCV\n",
    "from sklearn.tree import DecisionTreeRegressor\n",
    "from sklearn.cross_validation import cross_val_score\n",
    "from sklearn.ensemble import RandomForestRegressor\n",
    "from sklearn.svm import SVR\n",
    "from sklearn.linear_model import Ridge\n",
    "\n",
    "from bs4 import BeautifulSoup\n",
    "import re\n",
    "import requests"
   ]
  },
  {
   "cell_type": "code",
   "execution_count": 6,
   "metadata": {
    "collapsed": true
   },
   "outputs": [],
   "source": [
    "import matplotlib.pyplot as plt\n",
    "%matplotlib inline"
   ]
  },
  {
   "cell_type": "code",
   "execution_count": null,
   "metadata": {
    "collapsed": true
   },
   "outputs": [],
   "source": [
    "#read data got from sfgate\n",
    "df_sf = pd.read_csv('sfdata.csv')"
   ]
  },
  {
   "cell_type": "code",
   "execution_count": null,
   "metadata": {
    "collapsed": true
   },
   "outputs": [],
   "source": [
    "#use the address from sfgate, send a request to zillow api and get the features of houses\n",
    "data = {}\n",
    "data['zipcode'] = []\n",
    "data['latitude'] = []\n",
    "data['longitude'] = []\n",
    "data['usecode'] = []\n",
    "data['finishedsqft'] = []\n",
    "data['bathrooms'] = []\n",
    "data['bedrooms'] = []\n",
    "data['totalrooms'] = []\n",
    "data['lastsolddate'] = []\n",
    "data['zestimate'] = []\n",
    "data['neighborhood'] = []\n",
    "data['zindexvalue'] = []\n",
    "data['address'] = []\n",
    "data['yearbuilt'] = []\n",
    "data['zpid'] = []\n",
    "data['lastsoldprice'] = []\n",
    "#df1.address is the address of houses from sfgate\n",
    "for i in range(0, len(df_sf.address)):\n",
    "    time.sleep(0.5)\n",
    "    try:\n",
    "        address = re.findall(r'Address: (.+)', df_sf.address.iloc[i])[0]\n",
    "    except IndexError:\n",
    "        data['address'] += [float('NaN')]\n",
    "        data['yearbuilt'] += [float('NaN')]\n",
    "        data['lastsoldprice'] += [float('NaN')]\n",
    "        data['zipcode'] += [float('NaN')]\n",
    "        data['zpid'] += [float('NaN')]\n",
    "        data['latitude'] += [float('NaN')]\n",
    "        data['longitude'] += [float('NaN')]\n",
    "        data['usecode'] += [float('NaN')]\n",
    "        data['finishedsqft'] += [float('NaN')]\n",
    "        data['bathrooms'] += [float('NaN')]\n",
    "        data['bedrooms'] += [float('NaN')]\n",
    "        data['totalrooms'] += [float('NaN')]\n",
    "        data['lastsolddate'] += [float('NaN')]\n",
    "        data['zestimate'] += [float('NaN')]\n",
    "        data['neighborhood'] += [float('NaN')]\n",
    "        data['zindexvalue'] += [float('NaN')]\n",
    "        print str(i) + 'aaaaaaa'\n",
    "        continue\n",
    "    address_url = urllib.quote(address)\n",
    "    url = 'http://www.zillow.com/webservice/GetDeepSearchResults.htm?zws-id=X1-ZWz19t5ocjlyiz_2doog&address=' + address_url + '&citystatezip=San%20Francisco%2C+CA'\n",
    "    response = requests.get(url)\n",
    "    text = response.text\n",
    "    soup = BeautifulSoup(text)\n",
    "    if len(soup.find_all('zipcode')) == 0:\n",
    "        data['address'] += [float('NaN')]\n",
    "        data['yearbuilt'] += [float('NaN')]\n",
    "        data['lastsoldprice'] += [float('NaN')]\n",
    "        data['zipcode'] += [float('NaN')]\n",
    "        data['zpid'] += [float('NaN')]\n",
    "        data['latitude'] += [float('NaN')]\n",
    "        data['longitude'] += [float('NaN')]\n",
    "        data['usecode'] += [float('NaN')]\n",
    "        data['finishedsqft'] += [float('NaN')]\n",
    "        data['bathrooms'] += [float('NaN')]\n",
    "        data['bedrooms'] += [float('NaN')]\n",
    "        data['totalrooms'] += [float('NaN')]\n",
    "        data['lastsolddate'] += [float('NaN')]\n",
    "        data['zestimate'] += [float('NaN')]\n",
    "        data['neighborhood'] += [float('NaN')]\n",
    "        data['zindexvalue'] += [float('NaN')]\n",
    "        print str(i) + 'aaaaaaa'\n",
    "    else:\n",
    "        data['zipcode'] += [soup.find_all('zipcode')[0].text]\n",
    "        data['address'] += [soup.find_all('street')[0].text]\n",
    "        data['latitude'] += [soup.find_all('latitude')[0].text]\n",
    "        data['longitude'] += [soup.find_all('longitude')[0].text]\n",
    "        data['zpid'] += [soup.find_all('zpid')[0].text]\n",
    "        \n",
    "        try:\n",
    "            data['lastsoldprice'] += [soup.find_all('lastsoldprice')[0].text]\n",
    "        except IndexError:\n",
    "            data['lastsoldprice'] += [float('NaN')]\n",
    "            \n",
    "        try:\n",
    "            data['yearbuilt'] += [soup.find_all('yearbuilt')[0].text]\n",
    "        except IndexError:\n",
    "            data['yearbuilt'] += [float('NaN')]\n",
    "        try:\n",
    "            data['usecode'] += [soup.find_all('usecode')[0].text]\n",
    "        except IndexError:\n",
    "            data['usecode'] += [float('NaN')]\n",
    "            \n",
    "        try:\n",
    "            data['finishedsqft'] += [soup.find_all('finishedsqft')[0].text]\n",
    "        except IndexError:\n",
    "            data['finishedsqft'] += [float('NaN')]\n",
    "        \n",
    "        try:\n",
    "            data['bathrooms'] += [soup.find_all('bathrooms')[0].text]\n",
    "        except IndexError:\n",
    "            data['bathrooms'] += [float('NaN')]\n",
    "            \n",
    "        try:\n",
    "            data['bedrooms'] += [soup.find_all('bedrooms')[0].text]\n",
    "        except IndexError:\n",
    "            data['bedrooms'] += [float('NaN')]\n",
    "        try:\n",
    "            data['totalrooms'] += [soup.find_all('totalrooms')[0].text]\n",
    "        except IndexError:\n",
    "            data['totalrooms'] += [float('NaN')]\n",
    "            \n",
    "        try:\n",
    "            data['lastsolddate'] += [soup.find_all('lastsolddate')[0].text]\n",
    "        except IndexError:\n",
    "            data['lastsolddate'] += [float('NaN')]\n",
    "        try:    \n",
    "            data['zestimate'] += [soup.find_all('amount', {\"currency\":\"USD\"})[0].text]\n",
    "        except IndexError:\n",
    "            data['zestimate'] += [float('NaN')]\n",
    "            \n",
    "        data['neighborhood'] += [soup.find_all('region')[0]['name']]\n",
    "        \n",
    "        try:\n",
    "            data['zindexvalue'] += [soup.find_all('zindexvalue')[0].text]\n",
    "        except IndexError:\n",
    "            data['zindexvalue'] += [float('NaN')]\n",
    "        print i"
   ]
  },
  {
   "cell_type": "code",
   "execution_count": null,
   "metadata": {
    "collapsed": true
   },
   "outputs": [],
   "source": [
    "#due to the limit of the API requests, The features were collected several times and then put together.\n",
    "#The code for this process is not shown here"
   ]
  },
  {
   "cell_type": "code",
   "execution_count": null,
   "metadata": {
    "collapsed": true
   },
   "outputs": [],
   "source": [
    "df_zillow = pd.DataFrame(data)\n",
    "#combine sfgate data with zillow data\n",
    "df = pd.concat([df_sf, df_zillow], axis=1)\n",
    "df.to_csv('final_data.csv')"
   ]
  },
  {
   "cell_type": "markdown",
   "metadata": {},
   "source": [
    "# Data Analysis"
   ]
  },
  {
   "cell_type": "code",
   "execution_count": 2,
   "metadata": {
    "collapsed": true
   },
   "outputs": [],
   "source": [
    "#read data\n",
    "df = pd.read_csv('final_data.csv')"
   ]
  },
  {
   "cell_type": "code",
   "execution_count": 3,
   "metadata": {
    "collapsed": true
   },
   "outputs": [],
   "source": [
    "#create features\n",
    "def get_date(x):\n",
    "    return parse(re.findall(r'Sales date: (\\d+\\/\\d+\\/\\d+)', x)[0])\n",
    "df['date'] = df['info'].apply(get_date)\n",
    "    \n",
    "def get_month(x):\n",
    "    return parse(str(x.year)+'/'+str(x.month)+'/'+'01')\n",
    "df['month'] = df.date.apply(get_month)\n",
    "#get lot size\n",
    "def get_lot(x):\n",
    "    t = int(re.findall(r'Lot size: (\\d+)', x)[0])\n",
    "    return t\n",
    "df['lot_sqft'] = df['info'].apply(get_lot)\n",
    "\n",
    "def get_year(x):\n",
    "    return x.year\n",
    "df['year'] = df.date.apply(get_year)\n",
    "\n",
    "def get_price(x):\n",
    "    return int(re.findall(r'Sales price: (\\d+)', x)[0])\n",
    "df['price'] = df['info'].apply(get_price)\n",
    "\n",
    "def zipcode(x):\n",
    "    return re.findall(r'(\\d+)', str(x))[0]\n",
    "df['zipcode'] = df.zipcode.apply(zipcode)"
   ]
  },
  {
   "cell_type": "code",
   "execution_count": 4,
   "metadata": {
    "collapsed": true
   },
   "outputs": [],
   "source": [
    "#log price\n",
    "df['log_price'] = np.log(df.price)\n",
    "#bathroom/bedroom\n",
    "df['bed_bath'] = df.bedrooms/df.bathrooms\n",
    "#lot size / finishedsqft\n",
    "df['lot_finish'] = df.lot_sqft / df.finishedsqft\n",
    "#how long has the house been built\n",
    "df['history'] = df.year - df.yearbuilt\n",
    "#price per finishedsqft\n",
    "df['p_sqft'] = df.price / df.finishedsqft"
   ]
  },
  {
   "cell_type": "code",
   "execution_count": 7,
   "metadata": {
    "collapsed": false
   },
   "outputs": [
    {
     "data": {
      "text/plain": [
       "[0, 5000, 0, 12000]"
      ]
     },
     "execution_count": 7,
     "metadata": {},
     "output_type": "execute_result"
    },
    {
     "data": {
      "image/png": "[encoded data removed]",
      "text/plain": [
       "<matplotlib.figure.Figure at 0x110dec310>"
      ]
     },
     "metadata": {},
     "output_type": "display_data"
    }
   ],
   "source": [
    "plt.hist(df[df.p_sqft <= 5000].p_sqft)\n",
    "plt.axis([0,5000,0,12000])"
   ]
  },
  {
   "cell_type": "code",
   "execution_count": 8,
   "metadata": {
    "collapsed": false
   },
   "outputs": [
    {
     "name": "stdout",
     "output_type": "stream",
     "text": [
      "468\n"
     ]
    },
    {
     "data": {
      "image/png": "[encoded data removed]",
      "text/plain": [
       "<matplotlib.figure.Figure at 0x110e1b6d0>"
      ]
     },
     "metadata": {},
     "output_type": "display_data"
    }
   ],
   "source": [
    "plt.hist(df[df.lot_sqft <= 80000].lot_sqft)\n",
    "print len(df[df.lot_sqft > 80000])"
   ]
  },
  {
   "cell_type": "code",
   "execution_count": 9,
   "metadata": {
    "collapsed": false
   },
   "outputs": [
    {
     "name": "stdout",
     "output_type": "stream",
     "text": [
      "48\n"
     ]
    },
    {
     "data": {
      "image/png": "[encoded data removed]",
      "text/plain": [
       "<matplotlib.figure.Figure at 0x111626910>"
      ]
     },
     "metadata": {},
     "output_type": "display_data"
    }
   ],
   "source": [
    "plt.hist(df[df.finishedsqft <= 6000].finishedsqft)\n",
    "print len(df[df.finishedsqft > 6000])"
   ]
  },
  {
   "cell_type": "code",
   "execution_count": 10,
   "metadata": {
    "collapsed": true
   },
   "outputs": [],
   "source": [
    "#get rid of the outliers\n",
    "df = df[df.p_sqft <= 5000]\n",
    "df = df[df.finishedsqft <= 6000]\n",
    "df = df[df.lot_sqft <= 80000]"
   ]
  },
  {
   "cell_type": "code",
   "execution_count": 11,
   "metadata": {
    "collapsed": false
   },
   "outputs": [
    {
     "data": {
      "text/html": [
       "<div>\n",
       "<table border=\"1\" class=\"dataframe\">\n",
       "  <thead>\n",
       "    <tr style=\"text-align: right;\">\n",
       "      <th></th>\n",
       "      <th>Unnamed: 0</th>\n",
       "      <th>address</th>\n",
       "      <th>info</th>\n",
       "      <th>z_address</th>\n",
       "      <th>bathrooms</th>\n",
       "      <th>bedrooms</th>\n",
       "      <th>finishedsqft</th>\n",
       "      <th>lastsolddate</th>\n",
       "      <th>lastsoldprice</th>\n",
       "      <th>latitude</th>\n",
       "      <th>...</th>\n",
       "      <th>date</th>\n",
       "      <th>month</th>\n",
       "      <th>lot_sqft</th>\n",
       "      <th>year</th>\n",
       "      <th>price</th>\n",
       "      <th>log_price</th>\n",
       "      <th>bed_bath</th>\n",
       "      <th>lot_finish</th>\n",
       "      <th>history</th>\n",
       "      <th>p_sqft</th>\n",
       "    </tr>\n",
       "    <tr>\n",
       "      <th>usecode</th>\n",
       "      <th></th>\n",
       "      <th></th>\n",
       "      <th></th>\n",
       "      <th></th>\n",
       "      <th></th>\n",
       "      <th></th>\n",
       "      <th></th>\n",
       "      <th></th>\n",
       "      <th></th>\n",
       "      <th></th>\n",
       "      <th></th>\n",
       "      <th></th>\n",
       "      <th></th>\n",
       "      <th></th>\n",
       "      <th></th>\n",
       "      <th></th>\n",
       "      <th></th>\n",
       "      <th></th>\n",
       "      <th></th>\n",
       "      <th></th>\n",
       "      <th></th>\n",
       "    </tr>\n",
       "  </thead>\n",
       "  <tbody>\n",
       "    <tr>\n",
       "      <th>Apartment</th>\n",
       "      <td>3</td>\n",
       "      <td>3</td>\n",
       "      <td>3</td>\n",
       "      <td>3</td>\n",
       "      <td>3</td>\n",
       "      <td>3</td>\n",
       "      <td>3</td>\n",
       "      <td>3</td>\n",
       "      <td>3</td>\n",
       "      <td>3</td>\n",
       "      <td>...</td>\n",
       "      <td>3</td>\n",
       "      <td>3</td>\n",
       "      <td>3</td>\n",
       "      <td>3</td>\n",
       "      <td>3</td>\n",
       "      <td>3</td>\n",
       "      <td>3</td>\n",
       "      <td>3</td>\n",
       "      <td>3</td>\n",
       "      <td>3</td>\n",
       "    </tr>\n",
       "    <tr>\n",
       "      <th>Condominium</th>\n",
       "      <td>4369</td>\n",
       "      <td>4369</td>\n",
       "      <td>4369</td>\n",
       "      <td>4369</td>\n",
       "      <td>4369</td>\n",
       "      <td>4369</td>\n",
       "      <td>4369</td>\n",
       "      <td>4369</td>\n",
       "      <td>4369</td>\n",
       "      <td>4369</td>\n",
       "      <td>...</td>\n",
       "      <td>4369</td>\n",
       "      <td>4369</td>\n",
       "      <td>4369</td>\n",
       "      <td>4369</td>\n",
       "      <td>4369</td>\n",
       "      <td>4369</td>\n",
       "      <td>4369</td>\n",
       "      <td>4369</td>\n",
       "      <td>4369</td>\n",
       "      <td>4369</td>\n",
       "    </tr>\n",
       "    <tr>\n",
       "      <th>Cooperative</th>\n",
       "      <td>3</td>\n",
       "      <td>3</td>\n",
       "      <td>3</td>\n",
       "      <td>3</td>\n",
       "      <td>3</td>\n",
       "      <td>3</td>\n",
       "      <td>3</td>\n",
       "      <td>3</td>\n",
       "      <td>3</td>\n",
       "      <td>3</td>\n",
       "      <td>...</td>\n",
       "      <td>3</td>\n",
       "      <td>3</td>\n",
       "      <td>3</td>\n",
       "      <td>3</td>\n",
       "      <td>3</td>\n",
       "      <td>3</td>\n",
       "      <td>3</td>\n",
       "      <td>3</td>\n",
       "      <td>3</td>\n",
       "      <td>3</td>\n",
       "    </tr>\n",
       "    <tr>\n",
       "      <th>Duplex</th>\n",
       "      <td>144</td>\n",
       "      <td>144</td>\n",
       "      <td>144</td>\n",
       "      <td>144</td>\n",
       "      <td>144</td>\n",
       "      <td>144</td>\n",
       "      <td>144</td>\n",
       "      <td>144</td>\n",
       "      <td>144</td>\n",
       "      <td>144</td>\n",
       "      <td>...</td>\n",
       "      <td>144</td>\n",
       "      <td>144</td>\n",
       "      <td>144</td>\n",
       "      <td>144</td>\n",
       "      <td>144</td>\n",
       "      <td>144</td>\n",
       "      <td>144</td>\n",
       "      <td>144</td>\n",
       "      <td>144</td>\n",
       "      <td>144</td>\n",
       "    </tr>\n",
       "    <tr>\n",
       "      <th>Miscellaneous</th>\n",
       "      <td>16</td>\n",
       "      <td>16</td>\n",
       "      <td>16</td>\n",
       "      <td>16</td>\n",
       "      <td>16</td>\n",
       "      <td>16</td>\n",
       "      <td>16</td>\n",
       "      <td>16</td>\n",
       "      <td>16</td>\n",
       "      <td>16</td>\n",
       "      <td>...</td>\n",
       "      <td>16</td>\n",
       "      <td>16</td>\n",
       "      <td>16</td>\n",
       "      <td>16</td>\n",
       "      <td>16</td>\n",
       "      <td>16</td>\n",
       "      <td>16</td>\n",
       "      <td>16</td>\n",
       "      <td>16</td>\n",
       "      <td>16</td>\n",
       "    </tr>\n",
       "    <tr>\n",
       "      <th>Mobile</th>\n",
       "      <td>2</td>\n",
       "      <td>2</td>\n",
       "      <td>2</td>\n",
       "      <td>2</td>\n",
       "      <td>2</td>\n",
       "      <td>2</td>\n",
       "      <td>2</td>\n",
       "      <td>2</td>\n",
       "      <td>2</td>\n",
       "      <td>2</td>\n",
       "      <td>...</td>\n",
       "      <td>2</td>\n",
       "      <td>2</td>\n",
       "      <td>2</td>\n",
       "      <td>2</td>\n",
       "      <td>2</td>\n",
       "      <td>2</td>\n",
       "      <td>2</td>\n",
       "      <td>2</td>\n",
       "      <td>2</td>\n",
       "      <td>2</td>\n",
       "    </tr>\n",
       "    <tr>\n",
       "      <th>MultiFamily2To4</th>\n",
       "      <td>451</td>\n",
       "      <td>451</td>\n",
       "      <td>451</td>\n",
       "      <td>451</td>\n",
       "      <td>451</td>\n",
       "      <td>451</td>\n",
       "      <td>451</td>\n",
       "      <td>451</td>\n",
       "      <td>451</td>\n",
       "      <td>451</td>\n",
       "      <td>...</td>\n",
       "      <td>451</td>\n",
       "      <td>451</td>\n",
       "      <td>451</td>\n",
       "      <td>451</td>\n",
       "      <td>451</td>\n",
       "      <td>451</td>\n",
       "      <td>451</td>\n",
       "      <td>451</td>\n",
       "      <td>451</td>\n",
       "      <td>451</td>\n",
       "    </tr>\n",
       "    <tr>\n",
       "      <th>MultiFamily5Plus</th>\n",
       "      <td>2</td>\n",
       "      <td>2</td>\n",
       "      <td>2</td>\n",
       "      <td>2</td>\n",
       "      <td>2</td>\n",
       "      <td>2</td>\n",
       "      <td>2</td>\n",
       "      <td>2</td>\n",
       "      <td>2</td>\n",
       "      <td>2</td>\n",
       "      <td>...</td>\n",
       "      <td>2</td>\n",
       "      <td>2</td>\n",
       "      <td>2</td>\n",
       "      <td>2</td>\n",
       "      <td>2</td>\n",
       "      <td>2</td>\n",
       "      <td>2</td>\n",
       "      <td>2</td>\n",
       "      <td>2</td>\n",
       "      <td>2</td>\n",
       "    </tr>\n",
       "    <tr>\n",
       "      <th>SingleFamily</th>\n",
       "      <td>5749</td>\n",
       "      <td>5749</td>\n",
       "      <td>5749</td>\n",
       "      <td>5749</td>\n",
       "      <td>5749</td>\n",
       "      <td>5749</td>\n",
       "      <td>5749</td>\n",
       "      <td>5749</td>\n",
       "      <td>5749</td>\n",
       "      <td>5749</td>\n",
       "      <td>...</td>\n",
       "      <td>5749</td>\n",
       "      <td>5749</td>\n",
       "      <td>5749</td>\n",
       "      <td>5749</td>\n",
       "      <td>5749</td>\n",
       "      <td>5749</td>\n",
       "      <td>5749</td>\n",
       "      <td>5749</td>\n",
       "      <td>5749</td>\n",
       "      <td>5749</td>\n",
       "    </tr>\n",
       "    <tr>\n",
       "      <th>Townhouse</th>\n",
       "      <td>60</td>\n",
       "      <td>60</td>\n",
       "      <td>60</td>\n",
       "      <td>60</td>\n",
       "      <td>60</td>\n",
       "      <td>60</td>\n",
       "      <td>60</td>\n",
       "      <td>60</td>\n",
       "      <td>60</td>\n",
       "      <td>60</td>\n",
       "      <td>...</td>\n",
       "      <td>60</td>\n",
       "      <td>60</td>\n",
       "      <td>60</td>\n",
       "      <td>60</td>\n",
       "      <td>60</td>\n",
       "      <td>60</td>\n",
       "      <td>60</td>\n",
       "      <td>60</td>\n",
       "      <td>60</td>\n",
       "      <td>60</td>\n",
       "    </tr>\n",
       "  </tbody>\n",
       "</table>\n",
       "<p>10 rows × 28 columns</p>\n",
       "</div>"
      ],
      "text/plain": [
       "                  Unnamed: 0  address  info  z_address  bathrooms  bedrooms  \\\n",
       "usecode                                                                       \n",
       "Apartment                  3        3     3          3          3         3   \n",
       "Condominium             4369     4369  4369       4369       4369      4369   \n",
       "Cooperative                3        3     3          3          3         3   \n",
       "Duplex                   144      144   144        144        144       144   \n",
       "Miscellaneous             16       16    16         16         16        16   \n",
       "Mobile                     2        2     2          2          2         2   \n",
       "MultiFamily2To4          451      451   451        451        451       451   \n",
       "MultiFamily5Plus           2        2     2          2          2         2   \n",
       "SingleFamily            5749     5749  5749       5749       5749      5749   \n",
       "Townhouse                 60       60    60         60         60        60   \n",
       "\n",
       "                  finishedsqft  lastsolddate  lastsoldprice  latitude   ...    \\\n",
       "usecode                                                                 ...     \n",
       "Apartment                    3             3              3         3   ...     \n",
       "Condominium               4369          4369           4369      4369   ...     \n",
       "Cooperative                  3             3              3         3   ...     \n",
       "Duplex                     144           144            144       144   ...     \n",
       "Miscellaneous               16            16             16        16   ...     \n",
       "Mobile                       2             2              2         2   ...     \n",
       "MultiFamily2To4            451           451            451       451   ...     \n",
       "MultiFamily5Plus             2             2              2         2   ...     \n",
       "SingleFamily              5749          5749           5749      5749   ...     \n",
       "Townhouse                   60            60             60        60   ...     \n",
       "\n",
       "                  date  month  lot_sqft  year  price  log_price  bed_bath  \\\n",
       "usecode                                                                     \n",
       "Apartment            3      3         3     3      3          3         3   \n",
       "Condominium       4369   4369      4369  4369   4369       4369      4369   \n",
       "Cooperative          3      3         3     3      3          3         3   \n",
       "Duplex             144    144       144   144    144        144       144   \n",
       "Miscellaneous       16     16        16    16     16         16        16   \n",
       "Mobile               2      2         2     2      2          2         2   \n",
       "MultiFamily2To4    451    451       451   451    451        451       451   \n",
       "MultiFamily5Plus     2      2         2     2      2          2         2   \n",
       "SingleFamily      5749   5749      5749  5749   5749       5749      5749   \n",
       "Townhouse           60     60        60    60     60         60        60   \n",
       "\n",
       "                  lot_finish  history  p_sqft  \n",
       "usecode                                        \n",
       "Apartment                  3        3       3  \n",
       "Condominium             4369     4369    4369  \n",
       "Cooperative                3        3       3  \n",
       "Duplex                   144      144     144  \n",
       "Miscellaneous             16       16      16  \n",
       "Mobile                     2        2       2  \n",
       "MultiFamily2To4          451      451     451  \n",
       "MultiFamily5Plus           2        2       2  \n",
       "SingleFamily            5749     5749    5749  \n",
       "Townhouse                 60       60      60  \n",
       "\n",
       "[10 rows x 28 columns]"
      ]
     },
     "execution_count": 11,
     "metadata": {},
     "output_type": "execute_result"
    }
   ],
   "source": [
    "df.groupby('usecode').count()"
   ]
  },
  {
   "cell_type": "code",
   "execution_count": 12,
   "metadata": {
    "collapsed": true
   },
   "outputs": [],
   "source": [
    "#only single family houses and condos have enough data \n",
    "df = df.loc[df['usecode'].isin(['SingleFamily', 'Condominium'])]\n",
    "\n",
    "df.index = range(len(df))"
   ]
  },
  {
   "cell_type": "code",
   "execution_count": 13,
   "metadata": {
    "collapsed": true
   },
   "outputs": [],
   "source": [
    "#read the house price index\n",
    "df_index = pd.read_csv('house_index.csv')\n",
    "sf_index = df_index.iloc[-44:,:]\n",
    "del sf_index['Unnamed: 0']"
   ]
  },
  {
   "cell_type": "code",
   "execution_count": 14,
   "metadata": {
    "collapsed": true
   },
   "outputs": [],
   "source": [
    "#add the point for the month of 2016-02\n",
    "sf_index = sf_index.append({'month':'2016-02-01', 'index':223.16},ignore_index=True)"
   ]
  },
  {
   "cell_type": "code",
   "execution_count": 15,
   "metadata": {
    "collapsed": true
   },
   "outputs": [
    {
     "data": {
      "text/html": [
       "<div>\n",
       "<table border=\"1\" class=\"dataframe\">\n",
       "  <thead>\n",
       "    <tr style=\"text-align: right;\">\n",
       "      <th></th>\n",
       "      <th>month</th>\n",
       "      <th>index</th>\n",
       "    </tr>\n",
       "    <tr>\n",
       "      <th>month</th>\n",
       "      <th></th>\n",
       "      <th></th>\n",
       "    </tr>\n",
       "  </thead>\n",
       "  <tbody>\n",
       "    <tr>\n",
       "      <th>2012-06-01</th>\n",
       "      <td>2012-06-01</td>\n",
       "      <td>136.11</td>\n",
       "    </tr>\n",
       "    <tr>\n",
       "      <th>2012-07-01</th>\n",
       "      <td>2012-07-01</td>\n",
       "      <td>137.99</td>\n",
       "    </tr>\n",
       "    <tr>\n",
       "      <th>2012-08-01</th>\n",
       "      <td>2012-08-01</td>\n",
       "      <td>139.04</td>\n",
       "    </tr>\n",
       "    <tr>\n",
       "      <th>2012-09-01</th>\n",
       "      <td>2012-09-01</td>\n",
       "      <td>140.95</td>\n",
       "    </tr>\n",
       "    <tr>\n",
       "      <th>2012-10-01</th>\n",
       "      <td>2012-10-01</td>\n",
       "      <td>143.06</td>\n",
       "    </tr>\n",
       "    <tr>\n",
       "      <th>2012-11-01</th>\n",
       "      <td>2012-11-01</td>\n",
       "      <td>146.53</td>\n",
       "    </tr>\n",
       "    <tr>\n",
       "      <th>2012-12-01</th>\n",
       "      <td>2012-12-01</td>\n",
       "      <td>148.89</td>\n",
       "    </tr>\n",
       "    <tr>\n",
       "      <th>2013-01-01</th>\n",
       "      <td>2013-01-01</td>\n",
       "      <td>151.39</td>\n",
       "    </tr>\n",
       "    <tr>\n",
       "      <th>2013-02-01</th>\n",
       "      <td>2013-02-01</td>\n",
       "      <td>153.92</td>\n",
       "    </tr>\n",
       "    <tr>\n",
       "      <th>2013-03-01</th>\n",
       "      <td>2013-03-01</td>\n",
       "      <td>158.30</td>\n",
       "    </tr>\n",
       "    <tr>\n",
       "      <th>2013-04-01</th>\n",
       "      <td>2013-04-01</td>\n",
       "      <td>162.16</td>\n",
       "    </tr>\n",
       "    <tr>\n",
       "      <th>2013-05-01</th>\n",
       "      <td>2013-05-01</td>\n",
       "      <td>165.78</td>\n",
       "    </tr>\n",
       "    <tr>\n",
       "      <th>2013-06-01</th>\n",
       "      <td>2013-06-01</td>\n",
       "      <td>169.03</td>\n",
       "    </tr>\n",
       "    <tr>\n",
       "      <th>2013-07-01</th>\n",
       "      <td>2013-07-01</td>\n",
       "      <td>172.22</td>\n",
       "    </tr>\n",
       "    <tr>\n",
       "      <th>2013-08-01</th>\n",
       "      <td>2013-08-01</td>\n",
       "      <td>174.81</td>\n",
       "    </tr>\n",
       "    <tr>\n",
       "      <th>2013-09-01</th>\n",
       "      <td>2013-09-01</td>\n",
       "      <td>177.52</td>\n",
       "    </tr>\n",
       "    <tr>\n",
       "      <th>2013-10-01</th>\n",
       "      <td>2013-10-01</td>\n",
       "      <td>178.53</td>\n",
       "    </tr>\n",
       "    <tr>\n",
       "      <th>2013-11-01</th>\n",
       "      <td>2013-11-01</td>\n",
       "      <td>180.83</td>\n",
       "    </tr>\n",
       "    <tr>\n",
       "      <th>2013-12-01</th>\n",
       "      <td>2013-12-01</td>\n",
       "      <td>182.90</td>\n",
       "    </tr>\n",
       "    <tr>\n",
       "      <th>2014-01-01</th>\n",
       "      <td>2014-01-01</td>\n",
       "      <td>186.48</td>\n",
       "    </tr>\n",
       "    <tr>\n",
       "      <th>2014-02-01</th>\n",
       "      <td>2014-02-01</td>\n",
       "      <td>188.66</td>\n",
       "    </tr>\n",
       "    <tr>\n",
       "      <th>2014-03-01</th>\n",
       "      <td>2014-03-01</td>\n",
       "      <td>191.55</td>\n",
       "    </tr>\n",
       "    <tr>\n",
       "      <th>2014-04-01</th>\n",
       "      <td>2014-04-01</td>\n",
       "      <td>191.52</td>\n",
       "    </tr>\n",
       "    <tr>\n",
       "      <th>2014-05-01</th>\n",
       "      <td>2014-05-01</td>\n",
       "      <td>191.32</td>\n",
       "    </tr>\n",
       "    <tr>\n",
       "      <th>2014-06-01</th>\n",
       "      <td>2014-06-01</td>\n",
       "      <td>191.20</td>\n",
       "    </tr>\n",
       "    <tr>\n",
       "      <th>2014-07-01</th>\n",
       "      <td>2014-07-01</td>\n",
       "      <td>190.41</td>\n",
       "    </tr>\n",
       "    <tr>\n",
       "      <th>2014-08-01</th>\n",
       "      <td>2014-08-01</td>\n",
       "      <td>190.89</td>\n",
       "    </tr>\n",
       "    <tr>\n",
       "      <th>2014-09-01</th>\n",
       "      <td>2014-09-01</td>\n",
       "      <td>192.31</td>\n",
       "    </tr>\n",
       "    <tr>\n",
       "      <th>2014-10-01</th>\n",
       "      <td>2014-10-01</td>\n",
       "      <td>195.42</td>\n",
       "    </tr>\n",
       "    <tr>\n",
       "      <th>2014-11-01</th>\n",
       "      <td>2014-11-01</td>\n",
       "      <td>197.50</td>\n",
       "    </tr>\n",
       "    <tr>\n",
       "      <th>2014-12-01</th>\n",
       "      <td>2014-12-01</td>\n",
       "      <td>200.29</td>\n",
       "    </tr>\n",
       "    <tr>\n",
       "      <th>2015-01-01</th>\n",
       "      <td>2015-01-01</td>\n",
       "      <td>201.11</td>\n",
       "    </tr>\n",
       "    <tr>\n",
       "      <th>2015-02-01</th>\n",
       "      <td>2015-02-01</td>\n",
       "      <td>207.49</td>\n",
       "    </tr>\n",
       "    <tr>\n",
       "      <th>2015-03-01</th>\n",
       "      <td>2015-03-01</td>\n",
       "      <td>211.41</td>\n",
       "    </tr>\n",
       "    <tr>\n",
       "      <th>2015-04-01</th>\n",
       "      <td>2015-04-01</td>\n",
       "      <td>210.88</td>\n",
       "    </tr>\n",
       "    <tr>\n",
       "      <th>2015-05-01</th>\n",
       "      <td>2015-05-01</td>\n",
       "      <td>209.72</td>\n",
       "    </tr>\n",
       "    <tr>\n",
       "      <th>2015-06-01</th>\n",
       "      <td>2015-06-01</td>\n",
       "      <td>209.35</td>\n",
       "    </tr>\n",
       "    <tr>\n",
       "      <th>2015-07-01</th>\n",
       "      <td>2015-07-01</td>\n",
       "      <td>209.94</td>\n",
       "    </tr>\n",
       "    <tr>\n",
       "      <th>2015-08-01</th>\n",
       "      <td>2015-08-01</td>\n",
       "      <td>211.26</td>\n",
       "    </tr>\n",
       "    <tr>\n",
       "      <th>2015-09-01</th>\n",
       "      <td>2015-09-01</td>\n",
       "      <td>213.81</td>\n",
       "    </tr>\n",
       "    <tr>\n",
       "      <th>2015-10-01</th>\n",
       "      <td>2015-10-01</td>\n",
       "      <td>216.91</td>\n",
       "    </tr>\n",
       "    <tr>\n",
       "      <th>2015-11-01</th>\n",
       "      <td>2015-11-01</td>\n",
       "      <td>219.39</td>\n",
       "    </tr>\n",
       "    <tr>\n",
       "      <th>2015-12-01</th>\n",
       "      <td>2015-12-01</td>\n",
       "      <td>221.09</td>\n",
       "    </tr>\n",
       "    <tr>\n",
       "      <th>2016-01-01</th>\n",
       "      <td>2016-01-01</td>\n",
       "      <td>222.23</td>\n",
       "    </tr>\n",
       "    <tr>\n",
       "      <th>2016-02-01</th>\n",
       "      <td>2016-02-01</td>\n",
       "      <td>223.16</td>\n",
       "    </tr>\n",
       "  </tbody>\n",
       "</table>\n",
       "</div>"
      ],
      "text/plain": [
       "                month   index\n",
       "month                        \n",
       "2012-06-01 2012-06-01  136.11\n",
       "2012-07-01 2012-07-01  137.99\n",
       "2012-08-01 2012-08-01  139.04\n",
       "2012-09-01 2012-09-01  140.95\n",
       "2012-10-01 2012-10-01  143.06\n",
       "2012-11-01 2012-11-01  146.53\n",
       "2012-12-01 2012-12-01  148.89\n",
       "2013-01-01 2013-01-01  151.39\n",
       "2013-02-01 2013-02-01  153.92\n",
       "2013-03-01 2013-03-01  158.30\n",
       "2013-04-01 2013-04-01  162.16\n",
       "2013-05-01 2013-05-01  165.78\n",
       "2013-06-01 2013-06-01  169.03\n",
       "2013-07-01 2013-07-01  172.22\n",
       "2013-08-01 2013-08-01  174.81\n",
       "2013-09-01 2013-09-01  177.52\n",
       "2013-10-01 2013-10-01  178.53\n",
       "2013-11-01 2013-11-01  180.83\n",
       "2013-12-01 2013-12-01  182.90\n",
       "2014-01-01 2014-01-01  186.48\n",
       "2014-02-01 2014-02-01  188.66\n",
       "2014-03-01 2014-03-01  191.55\n",
       "2014-04-01 2014-04-01  191.52\n",
       "2014-05-01 2014-05-01  191.32\n",
       "2014-06-01 2014-06-01  191.20\n",
       "2014-07-01 2014-07-01  190.41\n",
       "2014-08-01 2014-08-01  190.89\n",
       "2014-09-01 2014-09-01  192.31\n",
       "2014-10-01 2014-10-01  195.42\n",
       "2014-11-01 2014-11-01  197.50\n",
       "2014-12-01 2014-12-01  200.29\n",
       "2015-01-01 2015-01-01  201.11\n",
       "2015-02-01 2015-02-01  207.49\n",
       "2015-03-01 2015-03-01  211.41\n",
       "2015-04-01 2015-04-01  210.88\n",
       "2015-05-01 2015-05-01  209.72\n",
       "2015-06-01 2015-06-01  209.35\n",
       "2015-07-01 2015-07-01  209.94\n",
       "2015-08-01 2015-08-01  211.26\n",
       "2015-09-01 2015-09-01  213.81\n",
       "2015-10-01 2015-10-01  216.91\n",
       "2015-11-01 2015-11-01  219.39\n",
       "2015-12-01 2015-12-01  221.09\n",
       "2016-01-01 2016-01-01  222.23\n",
       "2016-02-01 2016-02-01  223.16"
      ]
     },
     "execution_count": 15,
     "metadata": {},
     "output_type": "execute_result"
    }
   ],
   "source": [
    "#change index to date(month)\n",
    "def get_month(x):\n",
    "    return parse(str(parse(x).year)+'/'+str(parse(x).month)+'/'+'01')\n",
    "sf_index['month'] = sf_index.month.apply(get_month)\n",
    "\n",
    "sf_index.index = sf_index.month\n",
    "sf_index"
   ]
  },
  {
   "cell_type": "code",
   "execution_count": 16,
   "metadata": {
    "collapsed": true
   },
   "outputs": [],
   "source": [
    "#merge house price index to df base on month\n",
    "df = pd.merge(df, sf_index, on='month')"
   ]
  },
  {
   "cell_type": "code",
   "execution_count": 17,
   "metadata": {
    "collapsed": true
   },
   "outputs": [],
   "source": [
    "#adjust price to 2016-01 and create more features\n",
    "df['adjusted_price'] = df.price/df['index']*222.23\n",
    "\n",
    "df['_finishedsqft'] = 1/ df.finishedsqft\n",
    "\n",
    "df['_totalrooms'] = 1/ df.totalrooms\n",
    "\n",
    "df['log_p_sqft'] = np.log(df.p_sqft)\n",
    "\n",
    "df['adjust_p_sqft'] = df.adjusted_price/ df.finishedsqft\n",
    "\n",
    "df['log_adjusted_price'] = np.log(df.adjusted_price)\n",
    "\n",
    "df['log_adjust_p_sqft'] = np.log(df.adjust_p_sqft)\n",
    "\n",
    "df['bathbed'] = df.bathrooms*df.bedrooms\n",
    "\n",
    "df['finishedsqft_rooms'] = df.finishedsqft/ df.totalrooms\n",
    "\n",
    "df['adjusted_price_m'] = df.adjusted_price / 1000000.0\n",
    "\n",
    "df['finishedsqftrooms'] = df.finishedsqft* df.totalrooms"
   ]
  },
  {
   "cell_type": "code",
   "execution_count": 18,
   "metadata": {
    "collapsed": true
   },
   "outputs": [],
   "source": [
    "#group neighborhoods\n",
    "#freq: total sales during the past 3 years\n",
    "freq = df.groupby('neighborhood').count()['address']\n",
    "#mean_price: average adjusted price per sqft\n",
    "mean = df.groupby('neighborhood').mean()['adjust_p_sqft']\n",
    "cluster = pd.concat([freq, mean], axis=1)\n",
    "cluster['neighborhood'] = cluster.index"
   ]
  },
  {
   "cell_type": "code",
   "execution_count": 19,
   "metadata": {
    "collapsed": true
   },
   "outputs": [],
   "source": [
    "cluster.columns = ['freq', 'adjust_p_sqft','neighborhood']"
   ]
  },
  {
   "cell_type": "code",
   "execution_count": 20,
   "metadata": {
    "collapsed": false
   },
   "outputs": [
    {
     "data": {
      "text/plain": [
       "Index([u'Bayview', u'Central Richmond', u'Central Sunset', u'Crocker Amazon',\n",
       "       u'Daly City', u'Diamond Heights', u'Excelsior', u'Forest Hill',\n",
       "       u'Forest Hill Extension', u'Golden Gate Heights', u'Ingleside',\n",
       "       u'Ingleside Heights', u'Ingleside Terrace', u'Inner Parkside',\n",
       "       u'Inner Richmond', u'Inner Sunset', u'Lakeshore', u'Lakeside',\n",
       "       u'Little Hollywood', u'Merced Heights', u'Midtown Terrace',\n",
       "       u'Miraloma Park', u'Mission Terrace', u'Mount Davidson Manor',\n",
       "       u'Oceanview', u'Outer Mission', u'Outer Parkside', u'Outer Richmond',\n",
       "       u'Outer Sunset', u'Parkside', u'Portola', u'Silver Terrace',\n",
       "       u'St. Francis Wood', u'Sunnyside', u'Twin Peaks', u'Visitacion Valley',\n",
       "       u'West Portal', u'Western Addition', u'Westwood Highlands',\n",
       "       u'Westwood Park'],\n",
       "      dtype='object', name=u'neighborhood')"
      ]
     },
     "execution_count": 20,
     "metadata": {},
     "output_type": "execute_result"
    }
   ],
   "source": [
    "#cluster the neighborhood into three groups: 1. low price, 2. high price low frequency, 3. high price high frequency\n",
    "cluster1 = cluster[cluster.adjust_p_sqft < 950]\n",
    "cluster1.index"
   ]
  },
  {
   "cell_type": "code",
   "execution_count": 21,
   "metadata": {
    "collapsed": false
   },
   "outputs": [
    {
     "data": {
      "text/plain": [
       "Index([u'Buena Vista Park', u'Central Waterfront - Dogpatch',\n",
       "       u'Corona Heights', u'Cow Hollow', u'Downtown', u'Glen Park',\n",
       "       u'Haight-Ashbury', u'Hayes Valley', u'Lake', u'Lone Mountain',\n",
       "       u'Lower Pacific Heights', u'Marina', u'Nob Hill', u'North Beach',\n",
       "       u'North Panhandle', u'North Waterfront', u'Parnassus - Ashbury',\n",
       "       u'Potrero Hill', u'Presidio Heights', u'Russian Hill', u'Sea Cliff',\n",
       "       u'Telegraph Hill', u'Van Ness - Civic Center', u'Yerba Buena'],\n",
       "      dtype='object', name=u'neighborhood')"
      ]
     },
     "execution_count": 21,
     "metadata": {},
     "output_type": "execute_result"
    }
   ],
   "source": [
    "cluster_temp = cluster[cluster.adjust_p_sqft >= 950]\n",
    "cluster2 = cluster_temp[cluster_temp.freq <280]\n",
    "cluster2.index"
   ]
  },
  {
   "cell_type": "code",
   "execution_count": 22,
   "metadata": {
    "collapsed": false
   },
   "outputs": [
    {
     "data": {
      "text/plain": [
       "Index([u'Bernal Heights', u'Eureka Valley - Dolores Heights - Castro',\n",
       "       u'Mission', u'Noe Valley', u'Pacific Heights', u'South Beach',\n",
       "       u'South of Market'],\n",
       "      dtype='object', name=u'neighborhood')"
      ]
     },
     "execution_count": 22,
     "metadata": {},
     "output_type": "execute_result"
    }
   ],
   "source": [
    "cluster3 = cluster_temp[cluster_temp.freq >=280]\n",
    "cluster3.index"
   ]
  },
  {
   "cell_type": "code",
   "execution_count": 23,
   "metadata": {
    "collapsed": false
   },
   "outputs": [
    {
     "data": {
      "text/plain": [
       "<matplotlib.text.Text at 0x11242b590>"
      ]
     },
     "execution_count": 23,
     "metadata": {},
     "output_type": "execute_result"
    },
    {
     "data": {
      "image/png": "[encoded data removed]",
      "text/plain": [
       "<matplotlib.figure.Figure at 0x1123ce350>"
      ]
     },
     "metadata": {},
     "output_type": "display_data"
    }
   ],
   "source": [
    "#plot the clusters\n",
    "def get_color(x):\n",
    "    if x in cluster1.index:\n",
    "        return 'black'\n",
    "    elif x in cluster2.index:\n",
    "        return 'r'\n",
    "    else:\n",
    "        return 'blue'\n",
    "cluster['color'] = cluster.neighborhood.apply(get_color) \n",
    "\n",
    "fig, ax0 = plt.subplots(nrows=1,figsize=(16,8))\n",
    "ax0.scatter(cluster.freq, cluster.adjust_p_sqft, c=cluster.color, s=30)\n",
    "ax0.spines['right'].set_visible(False)\n",
    "ax0.spines['top'].set_visible(False)\n",
    "ax0.axes.tick_params(labelsize=20)\n",
    "ax0.set_xlabel('total sales', size=30)\n",
    "ax0.set_ylabel('Average Price per Square Feet', size=30)"
   ]
  },
  {
   "cell_type": "code",
   "execution_count": 24,
   "metadata": {
    "collapsed": true
   },
   "outputs": [],
   "source": [
    "#add group index to df base on the neighborhood clusters\n",
    "def get_group(x):\n",
    "    if x in cluster1.index:\n",
    "        return 'group1'\n",
    "    elif x in cluster2.index:\n",
    "        return 'group2'\n",
    "    else:\n",
    "        return 'group3'\n",
    "df['group'] = df.neighborhood.apply(get_group)"
   ]
  },
  {
   "cell_type": "code",
   "execution_count": 25,
   "metadata": {
    "collapsed": true
   },
   "outputs": [],
   "source": [
    "#split data into single family and condo houses\n",
    "df_sf = df[df.usecode == 'SingleFamily']\n",
    "df_condo = df[df.usecode == 'Condominium']"
   ]
  },
  {
   "cell_type": "code",
   "execution_count": 26,
   "metadata": {
    "collapsed": true
   },
   "outputs": [],
   "source": [
    "df_sf.to_csv('singlefamily.csv')\n",
    "df_condo.to_csv('condo.csv')"
   ]
  },
  {
   "cell_type": "code",
   "execution_count": 27,
   "metadata": {
    "collapsed": false
   },
   "outputs": [
    {
     "data": {
      "text/html": [
       "<div>\n",
       "<table border=\"1\" class=\"dataframe\">\n",
       "  <thead>\n",
       "    <tr style=\"text-align: right;\">\n",
       "      <th></th>\n",
       "      <th>adjusted_price_m</th>\n",
       "      <th>bathrooms</th>\n",
       "      <th>bedrooms</th>\n",
       "      <th>finishedsqft</th>\n",
       "      <th>totalrooms</th>\n",
       "      <th>lot_sqft</th>\n",
       "      <th>bed_bath</th>\n",
       "      <th>lot_finish</th>\n",
       "      <th>history</th>\n",
       "      <th>bathbed</th>\n",
       "      <th>finishedsqft_rooms</th>\n",
       "      <th>finishedsqftrooms</th>\n",
       "    </tr>\n",
       "  </thead>\n",
       "  <tbody>\n",
       "    <tr>\n",
       "      <th>adjusted_price_m</th>\n",
       "      <td>1.000000</td>\n",
       "      <td>0.519312</td>\n",
       "      <td>0.388918</td>\n",
       "      <td>0.695278</td>\n",
       "      <td>0.475825</td>\n",
       "      <td>0.121813</td>\n",
       "      <td>-0.279757</td>\n",
       "      <td>-0.104622</td>\n",
       "      <td>0.158463</td>\n",
       "      <td>0.484831</td>\n",
       "      <td>0.470756</td>\n",
       "      <td>0.669756</td>\n",
       "    </tr>\n",
       "    <tr>\n",
       "      <th>bathrooms</th>\n",
       "      <td>0.519312</td>\n",
       "      <td>1.000000</td>\n",
       "      <td>0.703507</td>\n",
       "      <td>0.723882</td>\n",
       "      <td>0.598387</td>\n",
       "      <td>0.058308</td>\n",
       "      <td>-0.617231</td>\n",
       "      <td>-0.153050</td>\n",
       "      <td>-0.037018</td>\n",
       "      <td>0.921369</td>\n",
       "      <td>0.456779</td>\n",
       "      <td>0.694332</td>\n",
       "    </tr>\n",
       "    <tr>\n",
       "      <th>bedrooms</th>\n",
       "      <td>0.388918</td>\n",
       "      <td>0.703507</td>\n",
       "      <td>1.000000</td>\n",
       "      <td>0.653240</td>\n",
       "      <td>0.632684</td>\n",
       "      <td>0.001876</td>\n",
       "      <td>-0.019372</td>\n",
       "      <td>-0.206053</td>\n",
       "      <td>-0.017531</td>\n",
       "      <td>0.833139</td>\n",
       "      <td>0.330936</td>\n",
       "      <td>0.649688</td>\n",
       "    </tr>\n",
       "    <tr>\n",
       "      <th>finishedsqft</th>\n",
       "      <td>0.695278</td>\n",
       "      <td>0.723882</td>\n",
       "      <td>0.653240</td>\n",
       "      <td>1.000000</td>\n",
       "      <td>0.721073</td>\n",
       "      <td>0.093012</td>\n",
       "      <td>-0.331068</td>\n",
       "      <td>-0.214908</td>\n",
       "      <td>0.055943</td>\n",
       "      <td>0.705099</td>\n",
       "      <td>0.702059</td>\n",
       "      <td>0.932973</td>\n",
       "    </tr>\n",
       "    <tr>\n",
       "      <th>totalrooms</th>\n",
       "      <td>0.475825</td>\n",
       "      <td>0.598387</td>\n",
       "      <td>0.632684</td>\n",
       "      <td>0.721073</td>\n",
       "      <td>1.000000</td>\n",
       "      <td>0.018202</td>\n",
       "      <td>-0.215119</td>\n",
       "      <td>-0.210417</td>\n",
       "      <td>0.089608</td>\n",
       "      <td>0.607457</td>\n",
       "      <td>0.078658</td>\n",
       "      <td>0.861803</td>\n",
       "    </tr>\n",
       "    <tr>\n",
       "      <th>lot_sqft</th>\n",
       "      <td>0.121813</td>\n",
       "      <td>0.058308</td>\n",
       "      <td>0.001876</td>\n",
       "      <td>0.093012</td>\n",
       "      <td>0.018202</td>\n",
       "      <td>1.000000</td>\n",
       "      <td>-0.092744</td>\n",
       "      <td>0.842434</td>\n",
       "      <td>-0.163857</td>\n",
       "      <td>0.047619</td>\n",
       "      <td>0.109747</td>\n",
       "      <td>0.089630</td>\n",
       "    </tr>\n",
       "    <tr>\n",
       "      <th>bed_bath</th>\n",
       "      <td>-0.279757</td>\n",
       "      <td>-0.617231</td>\n",
       "      <td>-0.019372</td>\n",
       "      <td>-0.331068</td>\n",
       "      <td>-0.215119</td>\n",
       "      <td>-0.092744</td>\n",
       "      <td>1.000000</td>\n",
       "      <td>-0.009532</td>\n",
       "      <td>0.041902</td>\n",
       "      <td>-0.380153</td>\n",
       "      <td>-0.283542</td>\n",
       "      <td>-0.290810</td>\n",
       "    </tr>\n",
       "    <tr>\n",
       "      <th>lot_finish</th>\n",
       "      <td>-0.104622</td>\n",
       "      <td>-0.153050</td>\n",
       "      <td>-0.206053</td>\n",
       "      <td>-0.214908</td>\n",
       "      <td>-0.210417</td>\n",
       "      <td>0.842434</td>\n",
       "      <td>-0.009532</td>\n",
       "      <td>1.000000</td>\n",
       "      <td>-0.166514</td>\n",
       "      <td>-0.152454</td>\n",
       "      <td>-0.119830</td>\n",
       "      <td>-0.184728</td>\n",
       "    </tr>\n",
       "    <tr>\n",
       "      <th>history</th>\n",
       "      <td>0.158463</td>\n",
       "      <td>-0.037018</td>\n",
       "      <td>-0.017531</td>\n",
       "      <td>0.055943</td>\n",
       "      <td>0.089608</td>\n",
       "      <td>-0.163857</td>\n",
       "      <td>0.041902</td>\n",
       "      <td>-0.166514</td>\n",
       "      <td>1.000000</td>\n",
       "      <td>-0.022968</td>\n",
       "      <td>-0.016192</td>\n",
       "      <td>0.083771</td>\n",
       "    </tr>\n",
       "    <tr>\n",
       "      <th>bathbed</th>\n",
       "      <td>0.484831</td>\n",
       "      <td>0.921369</td>\n",
       "      <td>0.833139</td>\n",
       "      <td>0.705099</td>\n",
       "      <td>0.607457</td>\n",
       "      <td>0.047619</td>\n",
       "      <td>-0.380153</td>\n",
       "      <td>-0.152454</td>\n",
       "      <td>-0.022968</td>\n",
       "      <td>1.000000</td>\n",
       "      <td>0.405172</td>\n",
       "      <td>0.708830</td>\n",
       "    </tr>\n",
       "    <tr>\n",
       "      <th>finishedsqft_rooms</th>\n",
       "      <td>0.470756</td>\n",
       "      <td>0.456779</td>\n",
       "      <td>0.330936</td>\n",
       "      <td>0.702059</td>\n",
       "      <td>0.078658</td>\n",
       "      <td>0.109747</td>\n",
       "      <td>-0.283542</td>\n",
       "      <td>-0.119830</td>\n",
       "      <td>-0.016192</td>\n",
       "      <td>0.405172</td>\n",
       "      <td>1.000000</td>\n",
       "      <td>0.445265</td>\n",
       "    </tr>\n",
       "    <tr>\n",
       "      <th>finishedsqftrooms</th>\n",
       "      <td>0.669756</td>\n",
       "      <td>0.694332</td>\n",
       "      <td>0.649688</td>\n",
       "      <td>0.932973</td>\n",
       "      <td>0.861803</td>\n",
       "      <td>0.089630</td>\n",
       "      <td>-0.290810</td>\n",
       "      <td>-0.184728</td>\n",
       "      <td>0.083771</td>\n",
       "      <td>0.708830</td>\n",
       "      <td>0.445265</td>\n",
       "      <td>1.000000</td>\n",
       "    </tr>\n",
       "  </tbody>\n",
       "</table>\n",
       "</div>"
      ],
      "text/plain": [
       "                    adjusted_price_m  bathrooms  bedrooms  finishedsqft  \\\n",
       "adjusted_price_m            1.000000   0.519312  0.388918      0.695278   \n",
       "bathrooms                   0.519312   1.000000  0.703507      0.723882   \n",
       "bedrooms                    0.388918   0.703507  1.000000      0.653240   \n",
       "finishedsqft                0.695278   0.723882  0.653240      1.000000   \n",
       "totalrooms                  0.475825   0.598387  0.632684      0.721073   \n",
       "lot_sqft                    0.121813   0.058308  0.001876      0.093012   \n",
       "bed_bath                   -0.279757  -0.617231 -0.019372     -0.331068   \n",
       "lot_finish                 -0.104622  -0.153050 -0.206053     -0.214908   \n",
       "history                     0.158463  -0.037018 -0.017531      0.055943   \n",
       "bathbed                     0.484831   0.921369  0.833139      0.705099   \n",
       "finishedsqft_rooms          0.470756   0.456779  0.330936      0.702059   \n",
       "finishedsqftrooms           0.669756   0.694332  0.649688      0.932973   \n",
       "\n",
       "                    totalrooms  lot_sqft  bed_bath  lot_finish   history  \\\n",
       "adjusted_price_m      0.475825  0.121813 -0.279757   -0.104622  0.158463   \n",
       "bathrooms             0.598387  0.058308 -0.617231   -0.153050 -0.037018   \n",
       "bedrooms              0.632684  0.001876 -0.019372   -0.206053 -0.017531   \n",
       "finishedsqft          0.721073  0.093012 -0.331068   -0.214908  0.055943   \n",
       "totalrooms            1.000000  0.018202 -0.215119   -0.210417  0.089608   \n",
       "lot_sqft              0.018202  1.000000 -0.092744    0.842434 -0.163857   \n",
       "bed_bath             -0.215119 -0.092744  1.000000   -0.009532  0.041902   \n",
       "lot_finish           -0.210417  0.842434 -0.009532    1.000000 -0.166514   \n",
       "history               0.089608 -0.163857  0.041902   -0.166514  1.000000   \n",
       "bathbed               0.607457  0.047619 -0.380153   -0.152454 -0.022968   \n",
       "finishedsqft_rooms    0.078658  0.109747 -0.283542   -0.119830 -0.016192   \n",
       "finishedsqftrooms     0.861803  0.089630 -0.290810   -0.184728  0.083771   \n",
       "\n",
       "                     bathbed  finishedsqft_rooms  finishedsqftrooms  \n",
       "adjusted_price_m    0.484831            0.470756           0.669756  \n",
       "bathrooms           0.921369            0.456779           0.694332  \n",
       "bedrooms            0.833139            0.330936           0.649688  \n",
       "finishedsqft        0.705099            0.702059           0.932973  \n",
       "totalrooms          0.607457            0.078658           0.861803  \n",
       "lot_sqft            0.047619            0.109747           0.089630  \n",
       "bed_bath           -0.380153           -0.283542          -0.290810  \n",
       "lot_finish         -0.152454           -0.119830          -0.184728  \n",
       "history            -0.022968           -0.016192           0.083771  \n",
       "bathbed             1.000000            0.405172           0.708830  \n",
       "finishedsqft_rooms  0.405172            1.000000           0.445265  \n",
       "finishedsqftrooms   0.708830            0.445265           1.000000  "
      ]
     },
     "execution_count": 27,
     "metadata": {},
     "output_type": "execute_result"
    }
   ],
   "source": [
    "#training singlefamily houses\n",
    "df_sf[['adjusted_price_m','bathrooms','bedrooms','finishedsqft','totalrooms','lot_sqft','bed_bath','lot_finish','history',\n",
    "      'bathbed','finishedsqft_rooms', 'finishedsqftrooms']].corr()"
   ]
  },
  {
   "cell_type": "code",
   "execution_count": 28,
   "metadata": {
    "collapsed": false
   },
   "outputs": [
    {
     "data": {
      "text/plain": [
       "<matplotlib.collections.PathCollection at 0x112436310>"
      ]
     },
     "execution_count": 28,
     "metadata": {},
     "output_type": "execute_result"
    },
    {
     "data": {
      "image/png": "[encoded data removed]",
      "text/plain": [
       "<matplotlib.figure.Figure at 0x1123ce9d0>"
      ]
     },
     "metadata": {},
     "output_type": "display_data"
    }
   ],
   "source": [
    "#exploratory data analysis\n",
    "plt.scatter(df_sf.bed_bath, df_sf.adjusted_price_m)"
   ]
  },
  {
   "cell_type": "code",
   "execution_count": 29,
   "metadata": {
    "collapsed": true
   },
   "outputs": [],
   "source": [
    "X = df_sf[['bathrooms','bedrooms','finishedsqft','totalrooms','finishedsqft_rooms','bed_bath','history','lot_sqft','lot_finish'\n",
    "          ]]\n",
    "Y = df_sf['adjusted_price_m']\n",
    "#create dummy variables for groups\n",
    "n = pd.get_dummies(df_sf.group)\n",
    "X = pd.concat([X, n], axis=1)\n",
    "X = pd.concat([X, df_sf.zestimate], axis=1)"
   ]
  },
  {
   "cell_type": "code",
   "execution_count": 30,
   "metadata": {
    "collapsed": true
   },
   "outputs": [],
   "source": [
    "#train test split\n",
    "X_train, X_test, Y_train, Y_test = train_test_split(X, Y, test_size=0.3, random_state=99)"
   ]
  },
  {
   "cell_type": "code",
   "execution_count": 31,
   "metadata": {
    "collapsed": false
   },
   "outputs": [
    {
     "data": {
      "text/plain": [
       "0.51201739738075946"
      ]
     },
     "execution_count": 31,
     "metadata": {},
     "output_type": "execute_result"
    }
   ],
   "source": [
    "#Ridge regression\n",
    "lm_Lasso = LassoCV(cv=3)\n",
    "lm_Lasso.fit(X_train.iloc[:,:-1], Y_train)\n",
    "lm_Lasso.score(X_train.iloc[:,:-1], Y_train)"
   ]
  },
  {
   "cell_type": "code",
   "execution_count": 32,
   "metadata": {
    "collapsed": false
   },
   "outputs": [
    {
     "name": "stdout",
     "output_type": "stream",
     "text": [
      "[  0.00000000e+00  -0.00000000e+00   1.10527738e-03  -0.00000000e+00\n",
      "  -5.07768823e-04  -0.00000000e+00   5.63801078e-03   3.71642741e-05\n",
      "  -0.00000000e+00  -0.00000000e+00   0.00000000e+00   0.00000000e+00]\n",
      "-0.799730984612\n",
      "0.694978734868\n"
     ]
    }
   ],
   "source": [
    "print lm_Lasso.coef_\n",
    "print lm_Lasso.intercept_\n",
    "print lm_Lasso.alpha_"
   ]
  },
  {
   "cell_type": "code",
   "execution_count": 33,
   "metadata": {
    "collapsed": false
   },
   "outputs": [
    {
     "data": {
      "text/plain": [
       "0.64118370725216023"
      ]
     },
     "execution_count": 33,
     "metadata": {},
     "output_type": "execute_result"
    }
   ],
   "source": [
    "#Ridge regression\n",
    "lm_Ridge = RidgeCV(cv=3)\n",
    "lm_Ridge.fit(X_train.iloc[:,:-1], Y_train)\n",
    "lm_Ridge.score(X_train.iloc[:,:-1], Y_train)"
   ]
  },
  {
   "cell_type": "code",
   "execution_count": 34,
   "metadata": {
    "collapsed": false
   },
   "outputs": [
    {
     "name": "stdout",
     "output_type": "stream",
     "text": [
      "[  2.14752464e-01  -1.80416974e-01   1.62394821e-03  -2.00932890e-01\n",
      "  -5.43319856e-03   2.04694405e-01   2.68028398e-03   8.69285259e-05\n",
      "  -5.64780882e-02  -5.94352742e-01   3.68894147e-01   2.25458595e-01]\n",
      "1.17253878586\n",
      "0.1\n"
     ]
    }
   ],
   "source": [
    "print lm_Ridge.coef_\n",
    "print lm_Ridge.intercept_\n",
    "print lm_Ridge.alpha_"
   ]
  },
  {
   "cell_type": "code",
   "execution_count": 35,
   "metadata": {
    "collapsed": false
   },
   "outputs": [
    {
     "data": {
      "text/plain": [
       "0.62870781297320244"
      ]
     },
     "execution_count": 35,
     "metadata": {},
     "output_type": "execute_result"
    }
   ],
   "source": [
    "ridge = Ridge(alpha=0.1)\n",
    "np.mean(cross_val_score(ridge, X_train.iloc[:,:-1], Y_train))"
   ]
  },
  {
   "cell_type": "code",
   "execution_count": 36,
   "metadata": {
    "collapsed": false,
    "scrolled": true
   },
   "outputs": [
    {
     "data": {
      "text/html": [
       "<table class=\"simpletable\">\n",
       "<caption>OLS Regression Results</caption>\n",
       "<tr>\n",
       "  <th>Dep. Variable:</th>    <td>adjusted_price_m</td> <th>  R-squared:         </th> <td>   0.544</td>\n",
       "</tr>\n",
       "<tr>\n",
       "  <th>Model:</th>                   <td>OLS</td>       <th>  Adj. R-squared:    </th> <td>   0.543</td>\n",
       "</tr>\n",
       "<tr>\n",
       "  <th>Method:</th>             <td>Least Squares</td>  <th>  F-statistic:       </th> <td>   525.0</td>\n",
       "</tr>\n",
       "<tr>\n",
       "  <th>Date:</th>             <td>Wed, 20 Apr 2016</td> <th>  Prob (F-statistic):</th>  <td>  0.00</td> \n",
       "</tr>\n",
       "<tr>\n",
       "  <th>Time:</th>                 <td>13:02:33</td>     <th>  Log-Likelihood:    </th> <td> -4942.2</td>\n",
       "</tr>\n",
       "<tr>\n",
       "  <th>No. Observations:</th>      <td>  3972</td>      <th>  AIC:               </th> <td>   9904.</td>\n",
       "</tr>\n",
       "<tr>\n",
       "  <th>Df Residuals:</th>          <td>  3962</td>      <th>  BIC:               </th> <td>   9967.</td>\n",
       "</tr>\n",
       "<tr>\n",
       "  <th>Df Model:</th>              <td>     9</td>      <th>                     </th>     <td> </td>   \n",
       "</tr>\n",
       "<tr>\n",
       "  <th>Covariance Type:</th>      <td>nonrobust</td>    <th>                     </th>     <td> </td>   \n",
       "</tr>\n",
       "</table>\n",
       "<table class=\"simpletable\">\n",
       "<tr>\n",
       "           <td></td>             <th>coef</th>     <th>std err</th>      <th>t</th>      <th>P>|t|</th>  <th>[0.025</th>    <th>0.975]</th>  \n",
       "</tr>\n",
       "<tr>\n",
       "  <th>Intercept</th>          <td>    0.4855</td> <td>    0.165</td> <td>    2.936</td> <td> 0.003</td> <td>    0.161</td> <td>    0.810</td>\n",
       "</tr>\n",
       "<tr>\n",
       "  <th>bathrooms</th>          <td>    0.2837</td> <td>    0.035</td> <td>    7.995</td> <td> 0.000</td> <td>    0.214</td> <td>    0.353</td>\n",
       "</tr>\n",
       "<tr>\n",
       "  <th>bedrooms</th>           <td>   -0.2618</td> <td>    0.029</td> <td>   -8.999</td> <td> 0.000</td> <td>   -0.319</td> <td>   -0.205</td>\n",
       "</tr>\n",
       "<tr>\n",
       "  <th>finishedsqft</th>       <td>    0.0018</td> <td> 6.91e-05</td> <td>   25.607</td> <td> 0.000</td> <td>    0.002</td> <td>    0.002</td>\n",
       "</tr>\n",
       "<tr>\n",
       "  <th>totalrooms</th>         <td>   -0.2096</td> <td>    0.020</td> <td>  -10.436</td> <td> 0.000</td> <td>   -0.249</td> <td>   -0.170</td>\n",
       "</tr>\n",
       "<tr>\n",
       "  <th>finishedsqft_rooms</th> <td>   -0.0053</td> <td>    0.000</td> <td>  -11.420</td> <td> 0.000</td> <td>   -0.006</td> <td>   -0.004</td>\n",
       "</tr>\n",
       "<tr>\n",
       "  <th>bed_bath</th>           <td>    0.1653</td> <td>    0.044</td> <td>    3.766</td> <td> 0.000</td> <td>    0.079</td> <td>    0.251</td>\n",
       "</tr>\n",
       "<tr>\n",
       "  <th>history</th>            <td>    0.0068</td> <td>    0.001</td> <td>   11.969</td> <td> 0.000</td> <td>    0.006</td> <td>    0.008</td>\n",
       "</tr>\n",
       "<tr>\n",
       "  <th>lot_sqft</th>           <td> 6.837e-05</td> <td> 1.01e-05</td> <td>    6.749</td> <td> 0.000</td> <td> 4.85e-05</td> <td> 8.82e-05</td>\n",
       "</tr>\n",
       "<tr>\n",
       "  <th>lot_finish</th>         <td>   -0.0324</td> <td>    0.009</td> <td>   -3.769</td> <td> 0.000</td> <td>   -0.049</td> <td>   -0.016</td>\n",
       "</tr>\n",
       "</table>\n",
       "<table class=\"simpletable\">\n",
       "<tr>\n",
       "  <th>Omnibus:</th>       <td>2496.508</td> <th>  Durbin-Watson:     </th> <td>   1.965</td> \n",
       "</tr>\n",
       "<tr>\n",
       "  <th>Prob(Omnibus):</th>  <td> 0.000</td>  <th>  Jarque-Bera (JB):  </th> <td>73666.350</td>\n",
       "</tr>\n",
       "<tr>\n",
       "  <th>Skew:</th>           <td> 2.508</td>  <th>  Prob(JB):          </th> <td>    0.00</td> \n",
       "</tr>\n",
       "<tr>\n",
       "  <th>Kurtosis:</th>       <td>23.493</td>  <th>  Cond. No.          </th> <td>5.52e+04</td> \n",
       "</tr>\n",
       "</table>"
      ],
      "text/plain": [
       "<class 'statsmodels.iolib.summary.Summary'>\n",
       "\"\"\"\n",
       "                            OLS Regression Results                            \n",
       "==============================================================================\n",
       "Dep. Variable:       adjusted_price_m   R-squared:                       0.544\n",
       "Model:                            OLS   Adj. R-squared:                  0.543\n",
       "Method:                 Least Squares   F-statistic:                     525.0\n",
       "Date:                Wed, 20 Apr 2016   Prob (F-statistic):               0.00\n",
       "Time:                        13:02:33   Log-Likelihood:                -4942.2\n",
       "No. Observations:                3972   AIC:                             9904.\n",
       "Df Residuals:                    3962   BIC:                             9967.\n",
       "Df Model:                           9                                         \n",
       "Covariance Type:            nonrobust                                         \n",
       "======================================================================================\n",
       "                         coef    std err          t      P>|t|      [0.025      0.975]\n",
       "--------------------------------------------------------------------------------------\n",
       "Intercept              0.4855      0.165      2.936      0.003       0.161       0.810\n",
       "bathrooms              0.2837      0.035      7.995      0.000       0.214       0.353\n",
       "bedrooms              -0.2618      0.029     -8.999      0.000      -0.319      -0.205\n",
       "finishedsqft           0.0018   6.91e-05     25.607      0.000       0.002       0.002\n",
       "totalrooms            -0.2096      0.020    -10.436      0.000      -0.249      -0.170\n",
       "finishedsqft_rooms    -0.0053      0.000    -11.420      0.000      -0.006      -0.004\n",
       "bed_bath               0.1653      0.044      3.766      0.000       0.079       0.251\n",
       "history                0.0068      0.001     11.969      0.000       0.006       0.008\n",
       "lot_sqft            6.837e-05   1.01e-05      6.749      0.000    4.85e-05    8.82e-05\n",
       "lot_finish            -0.0324      0.009     -3.769      0.000      -0.049      -0.016\n",
       "==============================================================================\n",
       "Omnibus:                     2496.508   Durbin-Watson:                   1.965\n",
       "Prob(Omnibus):                  0.000   Jarque-Bera (JB):            73666.350\n",
       "Skew:                           2.508   Prob(JB):                         0.00\n",
       "Kurtosis:                      23.493   Cond. No.                     5.52e+04\n",
       "==============================================================================\n",
       "\n",
       "Warnings:\n",
       "[1] Standard Errors assume that the covariance matrix of the errors is correctly specified.\n",
       "[2] The condition number is large, 5.52e+04. This might indicate that there are\n",
       "strong multicollinearity or other numerical problems.\n",
       "\"\"\""
      ]
     },
     "execution_count": 36,
     "metadata": {},
     "output_type": "execute_result"
    }
   ],
   "source": [
    "#check p values\n",
    "data = pd.concat([X_train, Y_train], axis=1)\n",
    "lr = smf.ols('adjusted_price_m ~ bathrooms+bedrooms+finishedsqft+totalrooms+finishedsqft_rooms+bed_bath+history+lot_sqft+lot_finish', data=data)\n",
    "res = lr.fit()\n",
    "res.summary()"
   ]
  },
  {
   "cell_type": "code",
   "execution_count": 39,
   "metadata": {
    "collapsed": true
   },
   "outputs": [],
   "source": [
    "#regression tree\n",
    "#the depth of the tree is choosen by cross validation\n",
    "score = []\n",
    "for i in range(1,15):\n",
    "    dt = DecisionTreeRegressor(max_depth=i)\n",
    "    score += [np.mean(cross_val_score(dt, X_train.iloc[:,:-1], Y_train))]"
   ]
  },
  {
   "cell_type": "code",
   "execution_count": 40,
   "metadata": {
    "collapsed": false
   },
   "outputs": [
    {
     "data": {
      "text/plain": [
       "[<matplotlib.lines.Line2D at 0x111191f10>]"
      ]
     },
     "execution_count": 40,
     "metadata": {},
     "output_type": "execute_result"
    },
    {
     "data": {
      "image/png": "[encoded data removed]",
      "text/plain": [
       "<matplotlib.figure.Figure at 0x112411750>"
      ]
     },
     "metadata": {},
     "output_type": "display_data"
    }
   ],
   "source": [
    "plt.plot(range(1,15),score)"
   ]
  },
  {
   "cell_type": "code",
   "execution_count": 41,
   "metadata": {
    "collapsed": false
   },
   "outputs": [
    {
     "data": {
      "text/plain": [
       "0.57890222308256378"
      ]
     },
     "execution_count": 41,
     "metadata": {},
     "output_type": "execute_result"
    }
   ],
   "source": [
    "dt = DecisionTreeRegressor(max_depth=3)\n",
    "np.mean(cross_val_score(dt, X_train.iloc[:,:-1], Y_train))"
   ]
  },
  {
   "cell_type": "code",
   "execution_count": 42,
   "metadata": {
    "collapsed": true
   },
   "outputs": [],
   "source": [
    "#randomforest regression\n",
    "#for different number of trees, test different depth\n",
    "num_trees = [10,20,40,100]\n",
    "d_score = {}\n",
    "for e in num_trees:\n",
    "    for i in range(1,15):\n",
    "        rf = RandomForestRegressor(n_estimators=e, max_depth=i)\n",
    "        if e in d_score:\n",
    "            d_score[e] += [np.mean(cross_val_score(rf, X_train.iloc[:,:-1], Y_train))]\n",
    "        else:\n",
    "            d_score[e] = [np.mean(cross_val_score(rf, X_train.iloc[:,:-1], Y_train))]"
   ]
  },
  {
   "cell_type": "code",
   "execution_count": 43,
   "metadata": {
    "collapsed": false
   },
   "outputs": [
    {
     "data": {
      "text/plain": [
       "<matplotlib.axes._subplots.AxesSubplot at 0x1121e8890>"
      ]
     },
     "execution_count": 43,
     "metadata": {},
     "output_type": "execute_result"
    },
    {
     "data": {
      "image/png": "[encoded data removed]",
      "text/plain": [
       "<matplotlib.figure.Figure at 0x1121d7b90>"
      ]
     },
     "metadata": {},
     "output_type": "display_data"
    }
   ],
   "source": [
    "pd.DataFrame(d_score).plot()"
   ]
  },
  {
   "cell_type": "code",
   "execution_count": 44,
   "metadata": {
    "collapsed": false
   },
   "outputs": [
    {
     "data": {
      "text/plain": [
       "0.67607011382488391"
      ]
     },
     "execution_count": 44,
     "metadata": {},
     "output_type": "execute_result"
    }
   ],
   "source": [
    "rf = RandomForestRegressor(n_estimators=40, max_depth=5)\n",
    "np.mean(cross_val_score(rf, X_train.iloc[:,:-1], Y_train))"
   ]
  },
  {
   "cell_type": "code",
   "execution_count": 45,
   "metadata": {
    "collapsed": false
   },
   "outputs": [
    {
     "data": {
      "text/plain": [
       "array([ 0.01186631,  0.01277036,  0.66088318,  0.00438443,  0.01231456,\n",
       "        0.00610595,  0.0088531 ,  0.05139098,  0.01110286,  0.21465567,\n",
       "        0.00161557,  0.00405705])"
      ]
     },
     "execution_count": 45,
     "metadata": {},
     "output_type": "execute_result"
    }
   ],
   "source": [
    "#train the model on the whole training set\n",
    "rf = RandomForestRegressor(n_estimators=40, max_depth=5)\n",
    "model_rf = rf.fit(X_train.iloc[:,:-1], Y_train)\n",
    "#important features\n",
    "model_rf.feature_importances_"
   ]
  },
  {
   "cell_type": "code",
   "execution_count": 46,
   "metadata": {
    "collapsed": false
   },
   "outputs": [
    {
     "data": {
      "text/plain": [
       "0.51533041263328672"
      ]
     },
     "execution_count": 46,
     "metadata": {},
     "output_type": "execute_result"
    }
   ],
   "source": [
    "#predict on the test set\n",
    "X_test.index = range(len(X_test))\n",
    "pred_test = model_rf.predict(X_test.iloc[:,:-1])\n",
    "\n",
    "#calculate the R squared on test set\n",
    "Y_test.index = range(len(Y_test))\n",
    "r2_score(pred_test, Y_test)"
   ]
  },
  {
   "cell_type": "code",
   "execution_count": 47,
   "metadata": {
    "collapsed": false
   },
   "outputs": [
    {
     "data": {
      "text/plain": [
       "<matplotlib.legend.Legend at 0x11246d550>"
      ]
     },
     "execution_count": 47,
     "metadata": {},
     "output_type": "execute_result"
    },
    {
     "data": {
      "image/png": "[encoded data removed]",
      "text/plain": [
       "<matplotlib.figure.Figure at 0x113bfbd50>"
      ]
     },
     "metadata": {},
     "output_type": "display_data"
    }
   ],
   "source": [
    "#compare result with zillow\n",
    "t = {}\n",
    "t['pred'] = pred_test\n",
    "t['true'] = Y_test\n",
    "t['z'] = X_test.zestimate/1000000.0\n",
    "\n",
    "t = pd.DataFrame(t)\n",
    "t['my_estimation'] = t.true - t.pred\n",
    "t['zillow_estimation'] = t.true - t.z\n",
    "\n",
    "#fig, ax = plt.subplots(nrows=1,figsize=(16,8))\n",
    "ax = t[['my_estimation', 'zillow_estimation']].plot.hist(stacked=False, bins=100, alpha=0.7, figsize=(16,8))\n",
    "ax.set_xlim([-5, 5])\n",
    "ax.spines['right'].set_visible(False)\n",
    "ax.spines['top'].set_visible(False)\n",
    "ax.spines['left'].set_visible(False)\n",
    "ax.axes.get_yaxis().set_ticks([])\n",
    "ax.set_xlabel('Estimation Error', size=30)\n",
    "ax.axes.tick_params(labelsize=20)\n",
    "ax.legend(prop={'size':20})"
   ]
  },
  {
   "cell_type": "code",
   "execution_count": null,
   "metadata": {
    "collapsed": true
   },
   "outputs": [],
   "source": []
  },
  {
   "cell_type": "code",
   "execution_count": 48,
   "metadata": {
    "collapsed": false
   },
   "outputs": [
    {
     "data": {
      "text/html": [
       "<div>\n",
       "<table border=\"1\" class=\"dataframe\">\n",
       "  <thead>\n",
       "    <tr style=\"text-align: right;\">\n",
       "      <th></th>\n",
       "      <th>adjusted_price_m</th>\n",
       "      <th>bathrooms</th>\n",
       "      <th>bedrooms</th>\n",
       "      <th>finishedsqft</th>\n",
       "      <th>totalrooms</th>\n",
       "      <th>lot_sqft</th>\n",
       "      <th>bed_bath</th>\n",
       "      <th>lot_finish</th>\n",
       "      <th>history</th>\n",
       "      <th>bathbed</th>\n",
       "      <th>finishedsqft_rooms</th>\n",
       "      <th>finishedsqftrooms</th>\n",
       "    </tr>\n",
       "  </thead>\n",
       "  <tbody>\n",
       "    <tr>\n",
       "      <th>adjusted_price_m</th>\n",
       "      <td>1.000000</td>\n",
       "      <td>0.531570</td>\n",
       "      <td>0.458439</td>\n",
       "      <td>0.693438</td>\n",
       "      <td>0.051103</td>\n",
       "      <td>-0.069592</td>\n",
       "      <td>0.039567</td>\n",
       "      <td>-0.221248</td>\n",
       "      <td>0.145193</td>\n",
       "      <td>0.551565</td>\n",
       "      <td>0.351118</td>\n",
       "      <td>0.131455</td>\n",
       "    </tr>\n",
       "    <tr>\n",
       "      <th>bathrooms</th>\n",
       "      <td>0.531570</td>\n",
       "      <td>1.000000</td>\n",
       "      <td>0.622148</td>\n",
       "      <td>0.661928</td>\n",
       "      <td>0.053247</td>\n",
       "      <td>-0.081593</td>\n",
       "      <td>-0.235310</td>\n",
       "      <td>-0.235525</td>\n",
       "      <td>-0.139172</td>\n",
       "      <td>0.894686</td>\n",
       "      <td>0.227051</td>\n",
       "      <td>0.129621</td>\n",
       "    </tr>\n",
       "    <tr>\n",
       "      <th>bedrooms</th>\n",
       "      <td>0.458439</td>\n",
       "      <td>0.622148</td>\n",
       "      <td>1.000000</td>\n",
       "      <td>0.673645</td>\n",
       "      <td>0.061285</td>\n",
       "      <td>-0.263895</td>\n",
       "      <td>0.566695</td>\n",
       "      <td>-0.394924</td>\n",
       "      <td>0.168986</td>\n",
       "      <td>0.850627</td>\n",
       "      <td>0.074279</td>\n",
       "      <td>0.136801</td>\n",
       "    </tr>\n",
       "    <tr>\n",
       "      <th>finishedsqft</th>\n",
       "      <td>0.693438</td>\n",
       "      <td>0.661928</td>\n",
       "      <td>0.673645</td>\n",
       "      <td>1.000000</td>\n",
       "      <td>0.063118</td>\n",
       "      <td>-0.201213</td>\n",
       "      <td>0.145241</td>\n",
       "      <td>-0.368854</td>\n",
       "      <td>0.218716</td>\n",
       "      <td>0.737531</td>\n",
       "      <td>0.426607</td>\n",
       "      <td>0.194990</td>\n",
       "    </tr>\n",
       "    <tr>\n",
       "      <th>totalrooms</th>\n",
       "      <td>0.051103</td>\n",
       "      <td>0.053247</td>\n",
       "      <td>0.061285</td>\n",
       "      <td>0.063118</td>\n",
       "      <td>1.000000</td>\n",
       "      <td>-0.035245</td>\n",
       "      <td>0.019426</td>\n",
       "      <td>-0.042785</td>\n",
       "      <td>0.007995</td>\n",
       "      <td>0.059028</td>\n",
       "      <td>-0.064395</td>\n",
       "      <td>0.988415</td>\n",
       "    </tr>\n",
       "    <tr>\n",
       "      <th>lot_sqft</th>\n",
       "      <td>-0.069592</td>\n",
       "      <td>-0.081593</td>\n",
       "      <td>-0.263895</td>\n",
       "      <td>-0.201213</td>\n",
       "      <td>-0.035245</td>\n",
       "      <td>1.000000</td>\n",
       "      <td>-0.240932</td>\n",
       "      <td>0.912206</td>\n",
       "      <td>-0.363576</td>\n",
       "      <td>-0.177908</td>\n",
       "      <td>0.037028</td>\n",
       "      <td>-0.058269</td>\n",
       "    </tr>\n",
       "    <tr>\n",
       "      <th>bed_bath</th>\n",
       "      <td>0.039567</td>\n",
       "      <td>-0.235310</td>\n",
       "      <td>0.566695</td>\n",
       "      <td>0.145241</td>\n",
       "      <td>0.019426</td>\n",
       "      <td>-0.240932</td>\n",
       "      <td>1.000000</td>\n",
       "      <td>-0.264546</td>\n",
       "      <td>0.353079</td>\n",
       "      <td>0.099259</td>\n",
       "      <td>-0.124843</td>\n",
       "      <td>0.030570</td>\n",
       "    </tr>\n",
       "    <tr>\n",
       "      <th>lot_finish</th>\n",
       "      <td>-0.221248</td>\n",
       "      <td>-0.235525</td>\n",
       "      <td>-0.394924</td>\n",
       "      <td>-0.368854</td>\n",
       "      <td>-0.042785</td>\n",
       "      <td>0.912206</td>\n",
       "      <td>-0.264546</td>\n",
       "      <td>1.000000</td>\n",
       "      <td>-0.349864</td>\n",
       "      <td>-0.307271</td>\n",
       "      <td>-0.072411</td>\n",
       "      <td>-0.079467</td>\n",
       "    </tr>\n",
       "    <tr>\n",
       "      <th>history</th>\n",
       "      <td>0.145193</td>\n",
       "      <td>-0.139172</td>\n",
       "      <td>0.168986</td>\n",
       "      <td>0.218716</td>\n",
       "      <td>0.007995</td>\n",
       "      <td>-0.363576</td>\n",
       "      <td>0.353079</td>\n",
       "      <td>-0.349864</td>\n",
       "      <td>1.000000</td>\n",
       "      <td>0.012715</td>\n",
       "      <td>-0.004545</td>\n",
       "      <td>0.037199</td>\n",
       "    </tr>\n",
       "    <tr>\n",
       "      <th>bathbed</th>\n",
       "      <td>0.551565</td>\n",
       "      <td>0.894686</td>\n",
       "      <td>0.850627</td>\n",
       "      <td>0.737531</td>\n",
       "      <td>0.059028</td>\n",
       "      <td>-0.177908</td>\n",
       "      <td>0.099259</td>\n",
       "      <td>-0.307271</td>\n",
       "      <td>0.012715</td>\n",
       "      <td>1.000000</td>\n",
       "      <td>0.170716</td>\n",
       "      <td>0.148537</td>\n",
       "    </tr>\n",
       "    <tr>\n",
       "      <th>finishedsqft_rooms</th>\n",
       "      <td>0.351118</td>\n",
       "      <td>0.227051</td>\n",
       "      <td>0.074279</td>\n",
       "      <td>0.426607</td>\n",
       "      <td>-0.064395</td>\n",
       "      <td>0.037028</td>\n",
       "      <td>-0.124843</td>\n",
       "      <td>-0.072411</td>\n",
       "      <td>-0.004545</td>\n",
       "      <td>0.170716</td>\n",
       "      <td>1.000000</td>\n",
       "      <td>-0.018078</td>\n",
       "    </tr>\n",
       "    <tr>\n",
       "      <th>finishedsqftrooms</th>\n",
       "      <td>0.131455</td>\n",
       "      <td>0.129621</td>\n",
       "      <td>0.136801</td>\n",
       "      <td>0.194990</td>\n",
       "      <td>0.988415</td>\n",
       "      <td>-0.058269</td>\n",
       "      <td>0.030570</td>\n",
       "      <td>-0.079467</td>\n",
       "      <td>0.037199</td>\n",
       "      <td>0.148537</td>\n",
       "      <td>-0.018078</td>\n",
       "      <td>1.000000</td>\n",
       "    </tr>\n",
       "  </tbody>\n",
       "</table>\n",
       "</div>"
      ],
      "text/plain": [
       "                    adjusted_price_m  bathrooms  bedrooms  finishedsqft  \\\n",
       "adjusted_price_m            1.000000   0.531570  0.458439      0.693438   \n",
       "bathrooms                   0.531570   1.000000  0.622148      0.661928   \n",
       "bedrooms                    0.458439   0.622148  1.000000      0.673645   \n",
       "finishedsqft                0.693438   0.661928  0.673645      1.000000   \n",
       "totalrooms                  0.051103   0.053247  0.061285      0.063118   \n",
       "lot_sqft                   -0.069592  -0.081593 -0.263895     -0.201213   \n",
       "bed_bath                    0.039567  -0.235310  0.566695      0.145241   \n",
       "lot_finish                 -0.221248  -0.235525 -0.394924     -0.368854   \n",
       "history                     0.145193  -0.139172  0.168986      0.218716   \n",
       "bathbed                     0.551565   0.894686  0.850627      0.737531   \n",
       "finishedsqft_rooms          0.351118   0.227051  0.074279      0.426607   \n",
       "finishedsqftrooms           0.131455   0.129621  0.136801      0.194990   \n",
       "\n",
       "                    totalrooms  lot_sqft  bed_bath  lot_finish   history  \\\n",
       "adjusted_price_m      0.051103 -0.069592  0.039567   -0.221248  0.145193   \n",
       "bathrooms             0.053247 -0.081593 -0.235310   -0.235525 -0.139172   \n",
       "bedrooms              0.061285 -0.263895  0.566695   -0.394924  0.168986   \n",
       "finishedsqft          0.063118 -0.201213  0.145241   -0.368854  0.218716   \n",
       "totalrooms            1.000000 -0.035245  0.019426   -0.042785  0.007995   \n",
       "lot_sqft             -0.035245  1.000000 -0.240932    0.912206 -0.363576   \n",
       "bed_bath              0.019426 -0.240932  1.000000   -0.264546  0.353079   \n",
       "lot_finish           -0.042785  0.912206 -0.264546    1.000000 -0.349864   \n",
       "history               0.007995 -0.363576  0.353079   -0.349864  1.000000   \n",
       "bathbed               0.059028 -0.177908  0.099259   -0.307271  0.012715   \n",
       "finishedsqft_rooms   -0.064395  0.037028 -0.124843   -0.072411 -0.004545   \n",
       "finishedsqftrooms     0.988415 -0.058269  0.030570   -0.079467  0.037199   \n",
       "\n",
       "                     bathbed  finishedsqft_rooms  finishedsqftrooms  \n",
       "adjusted_price_m    0.551565            0.351118           0.131455  \n",
       "bathrooms           0.894686            0.227051           0.129621  \n",
       "bedrooms            0.850627            0.074279           0.136801  \n",
       "finishedsqft        0.737531            0.426607           0.194990  \n",
       "totalrooms          0.059028           -0.064395           0.988415  \n",
       "lot_sqft           -0.177908            0.037028          -0.058269  \n",
       "bed_bath            0.099259           -0.124843           0.030570  \n",
       "lot_finish         -0.307271           -0.072411          -0.079467  \n",
       "history             0.012715           -0.004545           0.037199  \n",
       "bathbed             1.000000            0.170716           0.148537  \n",
       "finishedsqft_rooms  0.170716            1.000000          -0.018078  \n",
       "finishedsqftrooms   0.148537           -0.018078           1.000000  "
      ]
     },
     "execution_count": 48,
     "metadata": {},
     "output_type": "execute_result"
    }
   ],
   "source": [
    "##training condos\n",
    "df_condo[['adjusted_price_m','bathrooms','bedrooms','finishedsqft','totalrooms','lot_sqft','bed_bath','lot_finish','history',\n",
    "      'bathbed','finishedsqft_rooms', 'finishedsqftrooms']].corr()"
   ]
  },
  {
   "cell_type": "code",
   "execution_count": 49,
   "metadata": {
    "collapsed": true
   },
   "outputs": [],
   "source": [
    "X = df_condo[['bathrooms','bedrooms','finishedsqft','finishedsqft_rooms','bathbed','history','lot_finish','finishedsqftrooms'\n",
    "          ]]\n",
    "Y = df_condo['adjusted_price_m']\n",
    "#create dummy variables for groups\n",
    "n = pd.get_dummies(df_condo.group)\n",
    "X = pd.concat([X, n], axis=1)\n",
    "X = pd.concat([X, df_condo.zestimate], axis=1)"
   ]
  },
  {
   "cell_type": "code",
   "execution_count": 50,
   "metadata": {
    "collapsed": true
   },
   "outputs": [],
   "source": [
    "#train test split\n",
    "X_train, X_test, Y_train, Y_test = train_test_split(X, Y, test_size=0.3, random_state=99)"
   ]
  },
  {
   "cell_type": "code",
   "execution_count": 51,
   "metadata": {
    "collapsed": false
   },
   "outputs": [
    {
     "data": {
      "text/plain": [
       "0.47941660309715933"
      ]
     },
     "execution_count": 51,
     "metadata": {},
     "output_type": "execute_result"
    }
   ],
   "source": [
    "#Ridge regression\n",
    "lm_Lasso = LassoCV(cv=3)\n",
    "lm_Lasso.fit(X_train.iloc[:,:-1], Y_train)\n",
    "lm_Lasso.score(X_train.iloc[:,:-1], Y_train)"
   ]
  },
  {
   "cell_type": "code",
   "execution_count": 52,
   "metadata": {
    "collapsed": false
   },
   "outputs": [
    {
     "data": {
      "text/plain": [
       "0.56617249369724054"
      ]
     },
     "execution_count": 52,
     "metadata": {},
     "output_type": "execute_result"
    }
   ],
   "source": [
    "#Ridge regression\n",
    "lm_Ridge = RidgeCV(cv=3)\n",
    "lm_Ridge.fit(X_train.iloc[:,:-1], Y_train)\n",
    "lm_Ridge.score(X_train.iloc[:,:-1], Y_train)"
   ]
  },
  {
   "cell_type": "code",
   "execution_count": 53,
   "metadata": {
    "collapsed": false
   },
   "outputs": [
    {
     "data": {
      "text/plain": [
       "[<matplotlib.lines.Line2D at 0x112bf0850>]"
      ]
     },
     "execution_count": 53,
     "metadata": {},
     "output_type": "execute_result"
    },
    {
     "data": {
      "image/png": "[encoded data removed]",
      "text/plain": [
       "<matplotlib.figure.Figure at 0x11363de10>"
      ]
     },
     "metadata": {},
     "output_type": "display_data"
    }
   ],
   "source": [
    "score = []\n",
    "for i in range(1,15):\n",
    "    dt = DecisionTreeRegressor(max_depth=i)\n",
    "    score += [np.mean(cross_val_score(dt, X_train.iloc[:,:-1], Y_train))]\n",
    "plt.plot(range(1,15),score)"
   ]
  },
  {
   "cell_type": "code",
   "execution_count": 54,
   "metadata": {
    "collapsed": false
   },
   "outputs": [
    {
     "data": {
      "text/plain": [
       "0.52675643283627227"
      ]
     },
     "execution_count": 54,
     "metadata": {},
     "output_type": "execute_result"
    }
   ],
   "source": [
    "dt = DecisionTreeRegressor(max_depth=3)\n",
    "np.mean(cross_val_score(dt, X_train.iloc[:,:-1], Y_train))"
   ]
  },
  {
   "cell_type": "code",
   "execution_count": 55,
   "metadata": {
    "collapsed": false
   },
   "outputs": [
    {
     "data": {
      "text/plain": [
       "<matplotlib.axes._subplots.AxesSubplot at 0x113cecf50>"
      ]
     },
     "execution_count": 55,
     "metadata": {},
     "output_type": "execute_result"
    },
    {
     "data": {
      "image/png": "[encoded data removed]",
      "text/plain": [
       "<matplotlib.figure.Figure at 0x11146f390>"
      ]
     },
     "metadata": {},
     "output_type": "display_data"
    }
   ],
   "source": [
    "num_trees = [10,20,40,100]\n",
    "d_score = {}\n",
    "for e in num_trees:\n",
    "    for i in range(1,15):\n",
    "        rf = RandomForestRegressor(n_estimators=e, max_depth=i)\n",
    "        if e in d_score:\n",
    "            d_score[e] += [np.mean(cross_val_score(rf, X_train.iloc[:,:-1], Y_train))]\n",
    "        else:\n",
    "            d_score[e] = [np.mean(cross_val_score(rf, X_train.iloc[:,:-1], Y_train))]\n",
    "pd.DataFrame(d_score).plot()"
   ]
  },
  {
   "cell_type": "code",
   "execution_count": 56,
   "metadata": {
    "collapsed": false
   },
   "outputs": [
    {
     "data": {
      "text/plain": [
       "0.63410471764792142"
      ]
     },
     "execution_count": 56,
     "metadata": {},
     "output_type": "execute_result"
    }
   ],
   "source": [
    "rf = RandomForestRegressor(n_estimators=40, max_depth=5)\n",
    "np.mean(cross_val_score(rf, X_train.iloc[:,:-1], Y_train))"
   ]
  },
  {
   "cell_type": "code",
   "execution_count": 57,
   "metadata": {
    "collapsed": false
   },
   "outputs": [
    {
     "data": {
      "text/plain": [
       "array([  1.28182796e-02,   2.76342994e-03,   7.36603885e-01,\n",
       "         6.05319943e-02,   1.95829022e-02,   1.18414362e-02,\n",
       "         6.04506346e-02,   2.56075801e-02,   6.87226104e-02,\n",
       "         9.85017628e-04,   9.22303286e-05])"
      ]
     },
     "execution_count": 57,
     "metadata": {},
     "output_type": "execute_result"
    }
   ],
   "source": [
    "#train the model on the whole training set\n",
    "rf = RandomForestRegressor(n_estimators=40, max_depth=5)\n",
    "model_rf = rf.fit(X_train.iloc[:,:-1], Y_train)\n",
    "#important features\n",
    "model_rf.feature_importances_"
   ]
  },
  {
   "cell_type": "code",
   "execution_count": 58,
   "metadata": {
    "collapsed": false
   },
   "outputs": [
    {
     "data": {
      "text/plain": [
       "0.33793185899457234"
      ]
     },
     "execution_count": 58,
     "metadata": {},
     "output_type": "execute_result"
    }
   ],
   "source": [
    "#predict on the test set\n",
    "X_test.index = range(len(X_test))\n",
    "pred_test = model_rf.predict(X_test.iloc[:,:-1])\n",
    "\n",
    "#calculate the R squared on test set\n",
    "Y_test.index = range(len(Y_test))\n",
    "r2_score(pred_test, Y_test)"
   ]
  },
  {
   "cell_type": "code",
   "execution_count": 59,
   "metadata": {
    "collapsed": false
   },
   "outputs": [
    {
     "data": {
      "text/plain": [
       "<matplotlib.legend.Legend at 0x1124fc1d0>"
      ]
     },
     "execution_count": 59,
     "metadata": {},
     "output_type": "execute_result"
    },
    {
     "data": {
      "image/png": "[encoded data removed]",
      "text/plain": [
       "<matplotlib.figure.Figure at 0x113dc3110>"
      ]
     },
     "metadata": {},
     "output_type": "display_data"
    }
   ],
   "source": [
    "#compare result with zillow\n",
    "t = {}\n",
    "t['pred'] = pred_test\n",
    "t['true'] = Y_test\n",
    "t['z'] = X_test.zestimate/1000000.0\n",
    "\n",
    "t = pd.DataFrame(t)\n",
    "t['my_estimation'] = t.true - t.pred\n",
    "t['zillow_estimation'] = t.true - t.z\n",
    "\n",
    "#fig, ax = plt.subplots(nrows=1,figsize=(16,8))\n",
    "ax = t[['my_estimation', 'zillow_estimation']].plot.hist(stacked=False, bins=100, alpha=0.7, figsize=(16,8))\n",
    "ax.set_xlim([-5, 5])\n",
    "ax.spines['right'].set_visible(False)\n",
    "ax.spines['top'].set_visible(False)\n",
    "ax.spines['left'].set_visible(False)\n",
    "ax.axes.get_yaxis().set_ticks([])\n",
    "ax.set_xlabel('Estimation Error', size=30)\n",
    "ax.axes.tick_params(labelsize=20)\n",
    "ax.legend(prop={'size':20})"
   ]
  },
  {
   "cell_type": "code",
   "execution_count": null,
   "metadata": {
    "collapsed": true
   },
   "outputs": [],
   "source": []
  }
 ],
 "metadata": {
  "kernelspec": {
   "display_name": "Python 2",
   "language": "python",
   "name": "python2"
  },
  "language_info": {
   "codemirror_mode": {
    "name": "ipython",
    "version": 2
   },
   "file_extension": ".py",
   "mimetype": "text/x-python",
   "name": "python",
   "nbconvert_exporter": "python",
   "pygments_lexer": "ipython2",
   "version": "2.7.11"
  }
 },
 "nbformat": 4,
 "nbformat_minor": 0
}
